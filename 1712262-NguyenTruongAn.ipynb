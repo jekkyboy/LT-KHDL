{
 "cells": [
  {
   "cell_type": "markdown",
   "metadata": {},
   "source": [
    " # ĐỒ ÁN CUỐI KỲ - LẬP TRÌNH CHO KHOA HỌC DỮ LIỆU\n",
    " \n",
    " Họ tên: Nguyễn Trường An\n",
    " \n",
    " MSSV: 1712262"
   ]
  },
  {
   "cell_type": "markdown",
   "metadata": {},
   "source": [
    "---"
   ]
  },
  {
   "cell_type": "markdown",
   "metadata": {},
   "source": [
    "## Import"
   ]
  },
  {
   "cell_type": "code",
   "execution_count": 2,
   "metadata": {},
   "outputs": [],
   "source": [
    "%matplotlib inline\n",
    "import matplotlib.pyplot as plt\n",
    "import pandas as pd\n",
    "import numpy as np"
   ]
  },
  {
   "cell_type": "markdown",
   "metadata": {},
   "source": [
    "---"
   ]
  },
  {
   "cell_type": "markdown",
   "metadata": {},
   "source": [
    "## Lấy dữ liệu"
   ]
  },
  {
   "cell_type": "markdown",
   "metadata": {},
   "source": [
    "* Dữ liệu được dùng trong đồ án này là file \"dataanime.csv\" đính kèm. Đây là dữ liệu về những bộ anime (phim hoạt hình Nhật Bản) được lấy từ trang kaggle.com, và gốc của dữ liệu là [ở đây](https://www.kaggle.com/canggih/anime-data-score-staff-synopsis-and-genre)\n",
    "* License: [CC BY-NC-SA 4.0](https://creativecommons.org/licenses/by-nc-sa/4.0/) cho phép sao chép, chia sẻ, biến đổi,... dựa trên dữ liệu gốc.\n",
    "* Dữ liệu được thu thập từ trang: [MyAnimeList.net](http://www.myanimelist.net)"
   ]
  },
  {
   "cell_type": "markdown",
   "metadata": {},
   "source": [
    "---"
   ]
  },
  {
   "cell_type": "markdown",
   "metadata": {},
   "source": [
    "## Khám phá dữ liệu"
   ]
  },
  {
   "cell_type": "markdown",
   "metadata": {},
   "source": [
    "### Đọc dữ liệu từ file csv vào dataframe"
   ]
  },
  {
   "cell_type": "code",
   "execution_count": 5,
   "metadata": {},
   "outputs": [
    {
     "data": {
      "text/html": [
       "<div>\n",
       "<style scoped>\n",
       "    .dataframe tbody tr th:only-of-type {\n",
       "        vertical-align: middle;\n",
       "    }\n",
       "\n",
       "    .dataframe tbody tr th {\n",
       "        vertical-align: top;\n",
       "    }\n",
       "\n",
       "    .dataframe thead th {\n",
       "        text-align: right;\n",
       "    }\n",
       "</style>\n",
       "<table border=\"1\" class=\"dataframe\">\n",
       "  <thead>\n",
       "    <tr style=\"text-align: right;\">\n",
       "      <th></th>\n",
       "      <th>Title</th>\n",
       "      <th>Type</th>\n",
       "      <th>Episodes</th>\n",
       "      <th>Status</th>\n",
       "      <th>Start airing</th>\n",
       "      <th>End airing</th>\n",
       "      <th>Starting season</th>\n",
       "      <th>Broadcast time</th>\n",
       "      <th>Producers</th>\n",
       "      <th>Studios</th>\n",
       "      <th>Sources</th>\n",
       "      <th>Genres</th>\n",
       "      <th>Duration</th>\n",
       "      <th>Rating</th>\n",
       "      <th>Score</th>\n",
       "      <th>Scored by</th>\n",
       "      <th>Members</th>\n",
       "      <th>Favorites</th>\n",
       "    </tr>\n",
       "  </thead>\n",
       "  <tbody>\n",
       "    <tr>\n",
       "      <th>0</th>\n",
       "      <td>Fullmetal Alchemist: Brotherhood</td>\n",
       "      <td>TV</td>\n",
       "      <td>64</td>\n",
       "      <td>Finished Airing</td>\n",
       "      <td>4/5/2009</td>\n",
       "      <td>7/4/2010</td>\n",
       "      <td>Spring</td>\n",
       "      <td>Sundays at 17:00 (JST)</td>\n",
       "      <td>Aniplex,Square Enix,Mainichi Broadcasting Syst...</td>\n",
       "      <td>Bones</td>\n",
       "      <td>Manga</td>\n",
       "      <td>Action,Military,Adventure,Comedy,Drama,Magic,F...</td>\n",
       "      <td>24 min. per ep.</td>\n",
       "      <td>R</td>\n",
       "      <td>9.25</td>\n",
       "      <td>719706</td>\n",
       "      <td>1176368</td>\n",
       "      <td>105387</td>\n",
       "    </tr>\n",
       "    <tr>\n",
       "      <th>1</th>\n",
       "      <td>Kimi no Na wa.</td>\n",
       "      <td>Movie</td>\n",
       "      <td>1</td>\n",
       "      <td>Finished Airing</td>\n",
       "      <td>8/26/2016</td>\n",
       "      <td>-</td>\n",
       "      <td>-</td>\n",
       "      <td>-</td>\n",
       "      <td>Kadokawa Shoten,Toho,Sound Team Don Juan,Lawso...</td>\n",
       "      <td>CoMix Wave Films</td>\n",
       "      <td>Original</td>\n",
       "      <td>Supernatural,Drama,Romance,School</td>\n",
       "      <td>1 hr. 46 min.</td>\n",
       "      <td>PG-13</td>\n",
       "      <td>9.19</td>\n",
       "      <td>454969</td>\n",
       "      <td>705186</td>\n",
       "      <td>33936</td>\n",
       "    </tr>\n",
       "    <tr>\n",
       "      <th>2</th>\n",
       "      <td>Gintama°</td>\n",
       "      <td>TV</td>\n",
       "      <td>51</td>\n",
       "      <td>Finished Airing</td>\n",
       "      <td>4/8/2015</td>\n",
       "      <td>3/30/2016</td>\n",
       "      <td>Spring</td>\n",
       "      <td>Wednesdays at 18:00 (JST)</td>\n",
       "      <td>TV Tokyo,Aniplex,Dentsu</td>\n",
       "      <td>Bandai Namco Pictures</td>\n",
       "      <td>Manga</td>\n",
       "      <td>Action,Comedy,Historical,Parody,Samurai,Sci-Fi...</td>\n",
       "      <td>24 min. per ep.</td>\n",
       "      <td>R</td>\n",
       "      <td>9.16</td>\n",
       "      <td>70279</td>\n",
       "      <td>194359</td>\n",
       "      <td>5597</td>\n",
       "    </tr>\n",
       "    <tr>\n",
       "      <th>3</th>\n",
       "      <td>Steins;Gate 0</td>\n",
       "      <td>TV</td>\n",
       "      <td>23</td>\n",
       "      <td>Currently Airing</td>\n",
       "      <td>4/12/2018</td>\n",
       "      <td>-</td>\n",
       "      <td>Spring</td>\n",
       "      <td>Thursdays at 01:35 (JST)</td>\n",
       "      <td>Nitroplus</td>\n",
       "      <td>White Fox</td>\n",
       "      <td>Visual novel</td>\n",
       "      <td>Sci-Fi,Thriller</td>\n",
       "      <td>23 min. per ep.</td>\n",
       "      <td>PG-13</td>\n",
       "      <td>9.16</td>\n",
       "      <td>12609</td>\n",
       "      <td>186331</td>\n",
       "      <td>1117</td>\n",
       "    </tr>\n",
       "    <tr>\n",
       "      <th>4</th>\n",
       "      <td>Steins;Gate</td>\n",
       "      <td>TV</td>\n",
       "      <td>24</td>\n",
       "      <td>Finished Airing</td>\n",
       "      <td>4/6/2011</td>\n",
       "      <td>9/14/2011</td>\n",
       "      <td>Spring</td>\n",
       "      <td>Wednesdays at 02:05 (JST)</td>\n",
       "      <td>Frontier Works,Media Factory,Movic,AT-X,Kadoka...</td>\n",
       "      <td>White Fox</td>\n",
       "      <td>Visual novel</td>\n",
       "      <td>Sci-Fi,Thriller</td>\n",
       "      <td>24 min. per ep.</td>\n",
       "      <td>PG-13</td>\n",
       "      <td>9.14</td>\n",
       "      <td>552791</td>\n",
       "      <td>990419</td>\n",
       "      <td>90365</td>\n",
       "    </tr>\n",
       "  </tbody>\n",
       "</table>\n",
       "</div>"
      ],
      "text/plain": [
       "                              Title   Type Episodes            Status  \\\n",
       "0  Fullmetal Alchemist: Brotherhood     TV       64   Finished Airing   \n",
       "1                    Kimi no Na wa.  Movie        1   Finished Airing   \n",
       "2                          Gintama°     TV       51   Finished Airing   \n",
       "3                     Steins;Gate 0     TV       23  Currently Airing   \n",
       "4                       Steins;Gate     TV       24   Finished Airing   \n",
       "\n",
       "  Start airing End airing Starting season             Broadcast time  \\\n",
       "0     4/5/2009   7/4/2010          Spring     Sundays at 17:00 (JST)   \n",
       "1    8/26/2016          -               -                          -   \n",
       "2     4/8/2015  3/30/2016          Spring  Wednesdays at 18:00 (JST)   \n",
       "3    4/12/2018          -          Spring   Thursdays at 01:35 (JST)   \n",
       "4     4/6/2011  9/14/2011          Spring  Wednesdays at 02:05 (JST)   \n",
       "\n",
       "                                           Producers                Studios  \\\n",
       "0  Aniplex,Square Enix,Mainichi Broadcasting Syst...                  Bones   \n",
       "1  Kadokawa Shoten,Toho,Sound Team Don Juan,Lawso...       CoMix Wave Films   \n",
       "2                            TV Tokyo,Aniplex,Dentsu  Bandai Namco Pictures   \n",
       "3                                          Nitroplus              White Fox   \n",
       "4  Frontier Works,Media Factory,Movic,AT-X,Kadoka...              White Fox   \n",
       "\n",
       "        Sources                                             Genres  \\\n",
       "0         Manga  Action,Military,Adventure,Comedy,Drama,Magic,F...   \n",
       "1      Original                  Supernatural,Drama,Romance,School   \n",
       "2         Manga  Action,Comedy,Historical,Parody,Samurai,Sci-Fi...   \n",
       "3  Visual novel                                    Sci-Fi,Thriller   \n",
       "4  Visual novel                                    Sci-Fi,Thriller   \n",
       "\n",
       "          Duration Rating  Score  Scored by  Members  Favorites  \n",
       "0  24 min. per ep.      R   9.25     719706  1176368     105387  \n",
       "1    1 hr. 46 min.  PG-13   9.19     454969   705186      33936  \n",
       "2  24 min. per ep.      R   9.16      70279   194359       5597  \n",
       "3  23 min. per ep.  PG-13   9.16      12609   186331       1117  \n",
       "4  24 min. per ep.  PG-13   9.14     552791   990419      90365  "
      ]
     },
     "execution_count": 5,
     "metadata": {},
     "output_type": "execute_result"
    }
   ],
   "source": [
    "anime_df = pd.read_csv(\"dataanime.csv\")\n",
    "anime_df.head()"
   ]
  },
  {
   "cell_type": "code",
   "execution_count": null,
   "metadata": {},
   "outputs": [],
   "source": []
  },
  {
   "cell_type": "markdown",
   "metadata": {},
   "source": [
    "---"
   ]
  },
  {
   "cell_type": "markdown",
   "metadata": {},
   "source": [
    "## Tiền xử lý"
   ]
  },
  {
   "cell_type": "code",
   "execution_count": null,
   "metadata": {},
   "outputs": [],
   "source": []
  },
  {
   "cell_type": "markdown",
   "metadata": {},
   "source": [
    "---"
   ]
  },
  {
   "cell_type": "markdown",
   "metadata": {},
   "source": [
    "## Đưa ra các câu hỏi cần trả lời"
   ]
  },
  {
   "cell_type": "code",
   "execution_count": null,
   "metadata": {},
   "outputs": [],
   "source": []
  },
  {
   "cell_type": "markdown",
   "metadata": {},
   "source": [
    "---"
   ]
  },
  {
   "cell_type": "markdown",
   "metadata": {},
   "source": [
    "## Tiền xử lý"
   ]
  },
  {
   "cell_type": "code",
   "execution_count": null,
   "metadata": {},
   "outputs": [],
   "source": []
  },
  {
   "cell_type": "markdown",
   "metadata": {},
   "source": [
    "---"
   ]
  },
  {
   "cell_type": "markdown",
   "metadata": {},
   "source": [
    "## Phân tích dữ liệu để trả lời cho các câu hỏi"
   ]
  },
  {
   "cell_type": "code",
   "execution_count": null,
   "metadata": {},
   "outputs": [],
   "source": []
  },
  {
   "cell_type": "markdown",
   "metadata": {},
   "source": [
    "---"
   ]
  },
  {
   "cell_type": "markdown",
   "metadata": {},
   "source": [
    "## Nhìn lại quá trình làm đồ án"
   ]
  },
  {
   "cell_type": "code",
   "execution_count": null,
   "metadata": {},
   "outputs": [],
   "source": []
  },
  {
   "cell_type": "code",
   "execution_count": null,
   "metadata": {},
   "outputs": [],
   "source": []
  },
  {
   "cell_type": "code",
   "execution_count": null,
   "metadata": {},
   "outputs": [],
   "source": []
  },
  {
   "cell_type": "code",
   "execution_count": null,
   "metadata": {},
   "outputs": [],
   "source": []
  },
  {
   "cell_type": "code",
   "execution_count": null,
   "metadata": {},
   "outputs": [],
   "source": []
  }
 ],
 "metadata": {
  "kernelspec": {
   "display_name": "Python 3",
   "language": "python",
   "name": "python3"
  },
  "language_info": {
   "codemirror_mode": {
    "name": "ipython",
    "version": 3
   },
   "file_extension": ".py",
   "mimetype": "text/x-python",
   "name": "python",
   "nbconvert_exporter": "python",
   "pygments_lexer": "ipython3",
   "version": "3.7.6"
  }
 },
 "nbformat": 4,
 "nbformat_minor": 4
}
