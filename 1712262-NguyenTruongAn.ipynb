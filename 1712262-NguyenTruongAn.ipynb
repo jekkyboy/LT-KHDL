{
 "cells": [
  {
   "cell_type": "markdown",
   "metadata": {},
   "source": [
    " # ĐỒ ÁN CUỐI KỲ - LẬP TRÌNH CHO KHOA HỌC DỮ LIỆU\n",
    " \n",
    " Họ tên: Nguyễn Trường An\n",
    " \n",
    " MSSV: 1712262"
   ]
  },
  {
   "cell_type": "markdown",
   "metadata": {},
   "source": [
    "---"
   ]
  },
  {
   "cell_type": "markdown",
   "metadata": {},
   "source": [
    "## Import"
   ]
  },
  {
   "cell_type": "code",
   "execution_count": 1,
   "metadata": {},
   "outputs": [],
   "source": [
    "%matplotlib inline\n",
    "import matplotlib.pyplot as plt\n",
    "import pandas as pd\n",
    "import numpy as np"
   ]
  },
  {
   "cell_type": "markdown",
   "metadata": {},
   "source": [
    "---"
   ]
  },
  {
   "cell_type": "markdown",
   "metadata": {},
   "source": [
    "## Lấy dữ liệu"
   ]
  },
  {
   "cell_type": "markdown",
   "metadata": {},
   "source": [
    "* Dữ liệu được dùng trong đồ án này là file \"dataanime.csv\" đính kèm. Đây là dữ liệu về những bộ anime (phim hoạt hình Nhật Bản) được lấy từ trang kaggle.com, và gốc của dữ liệu là [ở đây](https://www.kaggle.com/canggih/anime-data-score-staff-synopsis-and-genre)\n",
    "* License: [CC BY-NC-SA 4.0](https://creativecommons.org/licenses/by-nc-sa/4.0/) cho phép sao chép, chia sẻ, biến đổi,... dựa trên dữ liệu gốc.\n",
    "* Dữ liệu được thu thập từ trang: [MyAnimeList.net](http://www.myanimelist.net)"
   ]
  },
  {
   "cell_type": "markdown",
   "metadata": {},
   "source": [
    "---"
   ]
  },
  {
   "cell_type": "markdown",
   "metadata": {},
   "source": [
    "## Khám phá dữ liệu"
   ]
  },
  {
   "cell_type": "markdown",
   "metadata": {},
   "source": [
    "### Đọc dữ liệu từ file csv vào dataframe"
   ]
  },
  {
   "cell_type": "code",
   "execution_count": 2,
   "metadata": {},
   "outputs": [
    {
     "data": {
      "text/html": [
       "<div>\n",
       "<style scoped>\n",
       "    .dataframe tbody tr th:only-of-type {\n",
       "        vertical-align: middle;\n",
       "    }\n",
       "\n",
       "    .dataframe tbody tr th {\n",
       "        vertical-align: top;\n",
       "    }\n",
       "\n",
       "    .dataframe thead th {\n",
       "        text-align: right;\n",
       "    }\n",
       "</style>\n",
       "<table border=\"1\" class=\"dataframe\">\n",
       "  <thead>\n",
       "    <tr style=\"text-align: right;\">\n",
       "      <th></th>\n",
       "      <th>Title</th>\n",
       "      <th>Type</th>\n",
       "      <th>Episodes</th>\n",
       "      <th>Status</th>\n",
       "      <th>Start airing</th>\n",
       "      <th>End airing</th>\n",
       "      <th>Starting season</th>\n",
       "      <th>Producers</th>\n",
       "      <th>Studios</th>\n",
       "      <th>Sources</th>\n",
       "      <th>Genres</th>\n",
       "      <th>Rating</th>\n",
       "      <th>Score</th>\n",
       "      <th>Scored by</th>\n",
       "      <th>Members</th>\n",
       "      <th>Favorites</th>\n",
       "    </tr>\n",
       "  </thead>\n",
       "  <tbody>\n",
       "    <tr>\n",
       "      <th>0</th>\n",
       "      <td>Fullmetal Alchemist: Brotherhood</td>\n",
       "      <td>TV</td>\n",
       "      <td>64</td>\n",
       "      <td>Finished Airing</td>\n",
       "      <td>4/5/2009</td>\n",
       "      <td>7/4/2010</td>\n",
       "      <td>Spring</td>\n",
       "      <td>Aniplex,Square Enix,Mainichi Broadcasting Syst...</td>\n",
       "      <td>Bones</td>\n",
       "      <td>Manga</td>\n",
       "      <td>Action,Military,Adventure,Comedy,Drama,Magic,F...</td>\n",
       "      <td>R</td>\n",
       "      <td>9.25</td>\n",
       "      <td>719706</td>\n",
       "      <td>1176368</td>\n",
       "      <td>105387</td>\n",
       "    </tr>\n",
       "    <tr>\n",
       "      <th>1</th>\n",
       "      <td>Kimi no Na wa.</td>\n",
       "      <td>Movie</td>\n",
       "      <td>1</td>\n",
       "      <td>Finished Airing</td>\n",
       "      <td>8/26/2016</td>\n",
       "      <td>-</td>\n",
       "      <td>-</td>\n",
       "      <td>Kadokawa Shoten,Toho,Sound Team Don Juan,Lawso...</td>\n",
       "      <td>CoMix Wave Films</td>\n",
       "      <td>Original</td>\n",
       "      <td>Supernatural,Drama,Romance,School</td>\n",
       "      <td>PG-13</td>\n",
       "      <td>9.19</td>\n",
       "      <td>454969</td>\n",
       "      <td>705186</td>\n",
       "      <td>33936</td>\n",
       "    </tr>\n",
       "    <tr>\n",
       "      <th>2</th>\n",
       "      <td>Gintama°</td>\n",
       "      <td>TV</td>\n",
       "      <td>51</td>\n",
       "      <td>Finished Airing</td>\n",
       "      <td>4/8/2015</td>\n",
       "      <td>3/30/2016</td>\n",
       "      <td>Spring</td>\n",
       "      <td>TV Tokyo,Aniplex,Dentsu</td>\n",
       "      <td>Bandai Namco Pictures</td>\n",
       "      <td>Manga</td>\n",
       "      <td>Action,Comedy,Historical,Parody,Samurai,Sci-Fi...</td>\n",
       "      <td>R</td>\n",
       "      <td>9.16</td>\n",
       "      <td>70279</td>\n",
       "      <td>194359</td>\n",
       "      <td>5597</td>\n",
       "    </tr>\n",
       "    <tr>\n",
       "      <th>3</th>\n",
       "      <td>Steins;Gate 0</td>\n",
       "      <td>TV</td>\n",
       "      <td>23</td>\n",
       "      <td>Currently Airing</td>\n",
       "      <td>4/12/2018</td>\n",
       "      <td>-</td>\n",
       "      <td>Spring</td>\n",
       "      <td>Nitroplus</td>\n",
       "      <td>White Fox</td>\n",
       "      <td>Visual novel</td>\n",
       "      <td>Sci-Fi,Thriller</td>\n",
       "      <td>PG-13</td>\n",
       "      <td>9.16</td>\n",
       "      <td>12609</td>\n",
       "      <td>186331</td>\n",
       "      <td>1117</td>\n",
       "    </tr>\n",
       "    <tr>\n",
       "      <th>4</th>\n",
       "      <td>Steins;Gate</td>\n",
       "      <td>TV</td>\n",
       "      <td>24</td>\n",
       "      <td>Finished Airing</td>\n",
       "      <td>4/6/2011</td>\n",
       "      <td>9/14/2011</td>\n",
       "      <td>Spring</td>\n",
       "      <td>Frontier Works,Media Factory,Movic,AT-X,Kadoka...</td>\n",
       "      <td>White Fox</td>\n",
       "      <td>Visual novel</td>\n",
       "      <td>Sci-Fi,Thriller</td>\n",
       "      <td>PG-13</td>\n",
       "      <td>9.14</td>\n",
       "      <td>552791</td>\n",
       "      <td>990419</td>\n",
       "      <td>90365</td>\n",
       "    </tr>\n",
       "  </tbody>\n",
       "</table>\n",
       "</div>"
      ],
      "text/plain": [
       "                              Title   Type Episodes            Status  \\\n",
       "0  Fullmetal Alchemist: Brotherhood     TV       64   Finished Airing   \n",
       "1                    Kimi no Na wa.  Movie        1   Finished Airing   \n",
       "2                          Gintama°     TV       51   Finished Airing   \n",
       "3                     Steins;Gate 0     TV       23  Currently Airing   \n",
       "4                       Steins;Gate     TV       24   Finished Airing   \n",
       "\n",
       "  Start airing End airing Starting season  \\\n",
       "0     4/5/2009   7/4/2010          Spring   \n",
       "1    8/26/2016          -               -   \n",
       "2     4/8/2015  3/30/2016          Spring   \n",
       "3    4/12/2018          -          Spring   \n",
       "4     4/6/2011  9/14/2011          Spring   \n",
       "\n",
       "                                           Producers                Studios  \\\n",
       "0  Aniplex,Square Enix,Mainichi Broadcasting Syst...                  Bones   \n",
       "1  Kadokawa Shoten,Toho,Sound Team Don Juan,Lawso...       CoMix Wave Films   \n",
       "2                            TV Tokyo,Aniplex,Dentsu  Bandai Namco Pictures   \n",
       "3                                          Nitroplus              White Fox   \n",
       "4  Frontier Works,Media Factory,Movic,AT-X,Kadoka...              White Fox   \n",
       "\n",
       "        Sources                                             Genres Rating  \\\n",
       "0         Manga  Action,Military,Adventure,Comedy,Drama,Magic,F...      R   \n",
       "1      Original                  Supernatural,Drama,Romance,School  PG-13   \n",
       "2         Manga  Action,Comedy,Historical,Parody,Samurai,Sci-Fi...      R   \n",
       "3  Visual novel                                    Sci-Fi,Thriller  PG-13   \n",
       "4  Visual novel                                    Sci-Fi,Thriller  PG-13   \n",
       "\n",
       "   Score  Scored by  Members  Favorites  \n",
       "0   9.25     719706  1176368     105387  \n",
       "1   9.19     454969   705186      33936  \n",
       "2   9.16      70279   194359       5597  \n",
       "3   9.16      12609   186331       1117  \n",
       "4   9.14     552791   990419      90365  "
      ]
     },
     "execution_count": 2,
     "metadata": {},
     "output_type": "execute_result"
    }
   ],
   "source": [
    "anime_df = pd.read_csv(\"dataanime.csv\")\n",
    "anime_df.head()"
   ]
  },
  {
   "cell_type": "markdown",
   "metadata": {},
   "source": [
    "### Dữ liệu gồm có bao nhiêu dòng và bao nhiêu cột?"
   ]
  },
  {
   "cell_type": "markdown",
   "metadata": {},
   "source": [
    "Tính số dòng và số cột rồi lần lượt lưu vào 2 biến là `num_rows` và `num_cols`. "
   ]
  },
  {
   "cell_type": "code",
   "execution_count": 3,
   "metadata": {},
   "outputs": [
    {
     "name": "stdout",
     "output_type": "stream",
     "text": [
      "Dữ liệu này có 1563 dòng và 16 cột\n"
     ]
    }
   ],
   "source": [
    "num_rows, num_cols = anime_df.shape\n",
    "print(\"Dữ liệu này có {} dòng và {} cột\".format(num_rows, num_cols))"
   ]
  },
  {
   "cell_type": "markdown",
   "metadata": {},
   "source": [
    "### Mỗi dòng và mỗi cột có ý nghĩa gì?"
   ]
  },
  {
   "cell_type": "markdown",
   "metadata": {},
   "source": [
    "Dưới đây là phần mô tả các cột có trong file \"dataanime.csv\":\n",
    "- **Title**: Tên của bộ anime, title là duy nhất dùng để phân biệt.\n",
    "- **Type**: Hình thức trình chiếu (Truyền hình/TV, OVA, ONA,...). Xem thêm tại [đây](https://giaivadap.com/kt/ova-la-gi-ona-la-gi-oad-la-gi-the-loai-phim-gi)\n",
    "- **Episodes**: Số tập của bộ anime đó.\n",
    "- **Status**: Tình trạng phát sóng của bộ anime này (\"Finished Airing\" là đã kết thúc, \"Currently Airing\" là đang phát sóng).\n",
    "- **Start airing**: Thời gian (Date) bắt đầu phát sóng bộ anime này.\n",
    "- **End airing**: Thời gian (Date) kết thúc phát sóng bộ anime này.\n",
    "- **Starting season**: Anime được phân chia và xếp hạng theo mùa. \"Starting season\" cho biết anime thuộc mùa nào trong năm (Spring, Summer, Fall, Winter).\n",
    "- **Producers**: Nhà sản xuất của bộ anime đó. Một anime thường là sự hợp tác của nhiều nhà sản xuất với nhau.\n",
    "- **Studios**: Xưởng phim sản xuất của những bộ anime. Khác với Producer, một bộ anime thường chỉ được làm ở 1 Studio.\n",
    "- **Sources**: Những bộ anime được sản xuất có nguồn gốc từ đâu (manga, light novel, book, original...). Xem giải thích một số thuật ngữ tại [đây](https://chuuniotaku.com/light-novel-la-gi/)\n",
    "- **Genres**: Anime được chia thành rất nhiều thể loại khác nhau để phù hợp với nhu cầu của người xem. Và mỗi bộ thường là sự kết hợp của ít nhất 2 thể loại trở lên.\n",
    "- **Rating**: Phân loại theo [Hệ thống phân loại phim ảnh hiện hành của MPAA](https://vi.wikipedia.org/wiki/H%E1%BB%87_th%E1%BB%91ng_ph%C3%A2n_lo%E1%BA%A1i_phim_c%E1%BB%A7a_MPAA).\n",
    "- **Score**: Điểm đánh giá của bộ anime đó tính trên thang 10 điểm. \n",
    "- **Scored by**: Số lượt đánh giá của bộ anime đó.\n",
    "- **Members**: Số lượng thành viên của bộ anime đó.\n",
    "- **Favorites**: Số lượt yêu thích của bộ anime đó.\n",
    "\n",
    "Mỗi dòng trong `anime_df` ứng với thông tin của một bộ anime."
   ]
  },
  {
   "cell_type": "markdown",
   "metadata": {},
   "source": [
    "### Mỗi cột  có dtype là gì?"
   ]
  },
  {
   "cell_type": "markdown",
   "metadata": {},
   "source": [
    "Lấy `dtype` (kiểu dữ liệu của mỗi phần tử) của mỗi cột trong `anime_df` và lưu kết quả vào series `col_dtypes`; series này có index là tên cột. "
   ]
  },
  {
   "cell_type": "code",
   "execution_count": 4,
   "metadata": {},
   "outputs": [
    {
     "data": {
      "text/plain": [
       "Title               object\n",
       "Type                object\n",
       "Episodes            object\n",
       "Status              object\n",
       "Start airing        object\n",
       "End airing          object\n",
       "Starting season     object\n",
       "Producers           object\n",
       "Studios             object\n",
       "Sources             object\n",
       "Genres              object\n",
       "Rating              object\n",
       "Score              float64\n",
       "Scored by            int64\n",
       "Members              int64\n",
       "Favorites            int64\n",
       "dtype: object"
      ]
     },
     "execution_count": 4,
     "metadata": {},
     "output_type": "execute_result"
    }
   ],
   "source": [
    "col_dtypes = anime_df.dtypes\n",
    "col_dtypes"
   ]
  },
  {
   "cell_type": "markdown",
   "metadata": {},
   "source": [
    "**<font color=red>Vấn đề:</font>**\n",
    "- Cột \"Start airing\" và \"End airing\" đang có kiểu dữ liệu là `object`. Do 2 cột này là 2 mốc thời gian bắt đầu và kết thúc nên để có thể khám phá thêm về 2 cột này, ta sẽ thực hiện bước tiền xử lý là chuyển sang dạng `datetime`.\n",
    "- Cột \"Episodes\" cũng đang có kiểu dữ liệu là object. Tuy nhiên, cột này thể hiện số tập phim nên phải là số nguyên. Để có thể tiếp tục khám phá thêm về cột này, ta sẽ thực hiện bước tiền xử lý là chuyển sang dạng `int`."
   ]
  },
  {
   "cell_type": "markdown",
   "metadata": {},
   "source": [
    "---"
   ]
  },
  {
   "cell_type": "markdown",
   "metadata": {},
   "source": [
    "## Tiền xử lý"
   ]
  },
  {
   "cell_type": "markdown",
   "metadata": {},
   "source": [
    "### Đổi tên cột \"Rating\""
   ]
  },
  {
   "cell_type": "markdown",
   "metadata": {},
   "source": [
    "Cột \"Rating\" dễ bị nhầm lẫn với xếp hạng (ta đã có cột \"Score\" để xếp hạng). Trong khi cột này chứa các giá trị để phân loại phim theo độ tuổi, ta sẽ đổi tên lại thành \"Classification\"."
   ]
  },
  {
   "cell_type": "code",
   "execution_count": 5,
   "metadata": {},
   "outputs": [
    {
     "data": {
      "text/html": [
       "<div>\n",
       "<style scoped>\n",
       "    .dataframe tbody tr th:only-of-type {\n",
       "        vertical-align: middle;\n",
       "    }\n",
       "\n",
       "    .dataframe tbody tr th {\n",
       "        vertical-align: top;\n",
       "    }\n",
       "\n",
       "    .dataframe thead th {\n",
       "        text-align: right;\n",
       "    }\n",
       "</style>\n",
       "<table border=\"1\" class=\"dataframe\">\n",
       "  <thead>\n",
       "    <tr style=\"text-align: right;\">\n",
       "      <th></th>\n",
       "      <th>Title</th>\n",
       "      <th>Type</th>\n",
       "      <th>Episodes</th>\n",
       "      <th>Status</th>\n",
       "      <th>Start airing</th>\n",
       "      <th>End airing</th>\n",
       "      <th>Starting season</th>\n",
       "      <th>Producers</th>\n",
       "      <th>Studios</th>\n",
       "      <th>Sources</th>\n",
       "      <th>Genres</th>\n",
       "      <th>Classification</th>\n",
       "      <th>Score</th>\n",
       "      <th>Scored by</th>\n",
       "      <th>Members</th>\n",
       "      <th>Favorites</th>\n",
       "    </tr>\n",
       "  </thead>\n",
       "  <tbody>\n",
       "    <tr>\n",
       "      <th>0</th>\n",
       "      <td>Fullmetal Alchemist: Brotherhood</td>\n",
       "      <td>TV</td>\n",
       "      <td>64</td>\n",
       "      <td>Finished Airing</td>\n",
       "      <td>4/5/2009</td>\n",
       "      <td>7/4/2010</td>\n",
       "      <td>Spring</td>\n",
       "      <td>Aniplex,Square Enix,Mainichi Broadcasting Syst...</td>\n",
       "      <td>Bones</td>\n",
       "      <td>Manga</td>\n",
       "      <td>Action,Military,Adventure,Comedy,Drama,Magic,F...</td>\n",
       "      <td>R</td>\n",
       "      <td>9.25</td>\n",
       "      <td>719706</td>\n",
       "      <td>1176368</td>\n",
       "      <td>105387</td>\n",
       "    </tr>\n",
       "    <tr>\n",
       "      <th>1</th>\n",
       "      <td>Kimi no Na wa.</td>\n",
       "      <td>Movie</td>\n",
       "      <td>1</td>\n",
       "      <td>Finished Airing</td>\n",
       "      <td>8/26/2016</td>\n",
       "      <td>-</td>\n",
       "      <td>-</td>\n",
       "      <td>Kadokawa Shoten,Toho,Sound Team Don Juan,Lawso...</td>\n",
       "      <td>CoMix Wave Films</td>\n",
       "      <td>Original</td>\n",
       "      <td>Supernatural,Drama,Romance,School</td>\n",
       "      <td>PG-13</td>\n",
       "      <td>9.19</td>\n",
       "      <td>454969</td>\n",
       "      <td>705186</td>\n",
       "      <td>33936</td>\n",
       "    </tr>\n",
       "    <tr>\n",
       "      <th>2</th>\n",
       "      <td>Gintama°</td>\n",
       "      <td>TV</td>\n",
       "      <td>51</td>\n",
       "      <td>Finished Airing</td>\n",
       "      <td>4/8/2015</td>\n",
       "      <td>3/30/2016</td>\n",
       "      <td>Spring</td>\n",
       "      <td>TV Tokyo,Aniplex,Dentsu</td>\n",
       "      <td>Bandai Namco Pictures</td>\n",
       "      <td>Manga</td>\n",
       "      <td>Action,Comedy,Historical,Parody,Samurai,Sci-Fi...</td>\n",
       "      <td>R</td>\n",
       "      <td>9.16</td>\n",
       "      <td>70279</td>\n",
       "      <td>194359</td>\n",
       "      <td>5597</td>\n",
       "    </tr>\n",
       "    <tr>\n",
       "      <th>3</th>\n",
       "      <td>Steins;Gate 0</td>\n",
       "      <td>TV</td>\n",
       "      <td>23</td>\n",
       "      <td>Currently Airing</td>\n",
       "      <td>4/12/2018</td>\n",
       "      <td>-</td>\n",
       "      <td>Spring</td>\n",
       "      <td>Nitroplus</td>\n",
       "      <td>White Fox</td>\n",
       "      <td>Visual novel</td>\n",
       "      <td>Sci-Fi,Thriller</td>\n",
       "      <td>PG-13</td>\n",
       "      <td>9.16</td>\n",
       "      <td>12609</td>\n",
       "      <td>186331</td>\n",
       "      <td>1117</td>\n",
       "    </tr>\n",
       "    <tr>\n",
       "      <th>4</th>\n",
       "      <td>Steins;Gate</td>\n",
       "      <td>TV</td>\n",
       "      <td>24</td>\n",
       "      <td>Finished Airing</td>\n",
       "      <td>4/6/2011</td>\n",
       "      <td>9/14/2011</td>\n",
       "      <td>Spring</td>\n",
       "      <td>Frontier Works,Media Factory,Movic,AT-X,Kadoka...</td>\n",
       "      <td>White Fox</td>\n",
       "      <td>Visual novel</td>\n",
       "      <td>Sci-Fi,Thriller</td>\n",
       "      <td>PG-13</td>\n",
       "      <td>9.14</td>\n",
       "      <td>552791</td>\n",
       "      <td>990419</td>\n",
       "      <td>90365</td>\n",
       "    </tr>\n",
       "  </tbody>\n",
       "</table>\n",
       "</div>"
      ],
      "text/plain": [
       "                              Title   Type Episodes            Status  \\\n",
       "0  Fullmetal Alchemist: Brotherhood     TV       64   Finished Airing   \n",
       "1                    Kimi no Na wa.  Movie        1   Finished Airing   \n",
       "2                          Gintama°     TV       51   Finished Airing   \n",
       "3                     Steins;Gate 0     TV       23  Currently Airing   \n",
       "4                       Steins;Gate     TV       24   Finished Airing   \n",
       "\n",
       "  Start airing End airing Starting season  \\\n",
       "0     4/5/2009   7/4/2010          Spring   \n",
       "1    8/26/2016          -               -   \n",
       "2     4/8/2015  3/30/2016          Spring   \n",
       "3    4/12/2018          -          Spring   \n",
       "4     4/6/2011  9/14/2011          Spring   \n",
       "\n",
       "                                           Producers                Studios  \\\n",
       "0  Aniplex,Square Enix,Mainichi Broadcasting Syst...                  Bones   \n",
       "1  Kadokawa Shoten,Toho,Sound Team Don Juan,Lawso...       CoMix Wave Films   \n",
       "2                            TV Tokyo,Aniplex,Dentsu  Bandai Namco Pictures   \n",
       "3                                          Nitroplus              White Fox   \n",
       "4  Frontier Works,Media Factory,Movic,AT-X,Kadoka...              White Fox   \n",
       "\n",
       "        Sources                                             Genres  \\\n",
       "0         Manga  Action,Military,Adventure,Comedy,Drama,Magic,F...   \n",
       "1      Original                  Supernatural,Drama,Romance,School   \n",
       "2         Manga  Action,Comedy,Historical,Parody,Samurai,Sci-Fi...   \n",
       "3  Visual novel                                    Sci-Fi,Thriller   \n",
       "4  Visual novel                                    Sci-Fi,Thriller   \n",
       "\n",
       "  Classification  Score  Scored by  Members  Favorites  \n",
       "0              R   9.25     719706  1176368     105387  \n",
       "1          PG-13   9.19     454969   705186      33936  \n",
       "2              R   9.16      70279   194359       5597  \n",
       "3          PG-13   9.16      12609   186331       1117  \n",
       "4          PG-13   9.14     552791   990419      90365  "
      ]
     },
     "execution_count": 5,
     "metadata": {},
     "output_type": "execute_result"
    }
   ],
   "source": [
    "anime_df = anime_df.rename(columns={'Rating':'Classification'})\n",
    "anime_df.head()"
   ]
  },
  {
   "cell_type": "markdown",
   "metadata": {},
   "source": [
    "### Thay thế các giá trị \"-\" thành NaN"
   ]
  },
  {
   "cell_type": "markdown",
   "metadata": {},
   "source": [
    "Hầu hết các cột có dtype là object *(Start airing, End airing, Starting season, Sources, Produces, Studios,...)* đều chứa rất nhiều giá trị \"-\" gây khó khăn và xảy ra lỗi cho việc chuyển đổi và tính toán sau này. Do đó ta sẽ thực hiện replace các giá trị \"-\" thành NaN."
   ]
  },
  {
   "cell_type": "code",
   "execution_count": 6,
   "metadata": {},
   "outputs": [
    {
     "name": "stdout",
     "output_type": "stream",
     "text": [
      "<class 'pandas.core.frame.DataFrame'>\n",
      "RangeIndex: 1563 entries, 0 to 1562\n",
      "Data columns (total 16 columns):\n",
      " #   Column           Non-Null Count  Dtype  \n",
      "---  ------           --------------  -----  \n",
      " 0   Title            1563 non-null   object \n",
      " 1   Type             1563 non-null   object \n",
      " 2   Episodes         1552 non-null   object \n",
      " 3   Status           1563 non-null   object \n",
      " 4   Start airing     1549 non-null   object \n",
      " 5   End airing       978 non-null    object \n",
      " 6   Starting season  821 non-null    object \n",
      " 7   Producers        1187 non-null   object \n",
      " 8   Studios          1517 non-null   object \n",
      " 9   Sources          1463 non-null   object \n",
      " 10  Genres           1563 non-null   object \n",
      " 11  Classification   1563 non-null   object \n",
      " 12  Score            1563 non-null   float64\n",
      " 13  Scored by        1563 non-null   int64  \n",
      " 14  Members          1563 non-null   int64  \n",
      " 15  Favorites        1563 non-null   int64  \n",
      "dtypes: float64(1), int64(3), object(12)\n",
      "memory usage: 195.5+ KB\n"
     ]
    }
   ],
   "source": [
    "anime_df = anime_df.replace(\"-\", np.nan)\n",
    "anime_df.info()"
   ]
  },
  {
   "cell_type": "markdown",
   "metadata": {},
   "source": [
    "### Chuyển dtype của cột \"Start airing\" và \"End airing\" sang datetime"
   ]
  },
  {
   "cell_type": "markdown",
   "metadata": {},
   "source": [
    "Thực hiện chuyển `dtype` của 2 cột \"Start airing\" và \"End airing\" sang kiểu dữ liệu thời gian (sau khi làm xong thì 2 cột này trong `anime_df` sẽ thay đổi thành `datetime64[ns]`). Ở đây ta sẽ dùng câu lệnh `pd.to_datetime` và để Pandas tự đoán format vì dữ liệu không nhiều và có chứa NaN. Giá trị NaN này sẽ được chuyển thành NaT trong `datetime64[ns]`."
   ]
  },
  {
   "cell_type": "code",
   "execution_count": 7,
   "metadata": {},
   "outputs": [
    {
     "name": "stdout",
     "output_type": "stream",
     "text": [
      "Start airing    datetime64[ns]\n",
      "End airing      datetime64[ns]\n",
      "dtype: object\n",
      "\n",
      "Data type of cell 382 after being transformed: NaT\n"
     ]
    }
   ],
   "source": [
    "# Chuyển đổi 2 cột \"Start airing\" và \"End airing\" sang định dạng datetime\n",
    "anime_df[\"Start airing\"] = pd.to_datetime(anime_df[\"Start airing\"])\n",
    "anime_df[\"End airing\"] = pd.to_datetime(anime_df[\"End airing\"])\n",
    "# Kiểm tra dtypes của 2 cột sau khi chuyển đổi\n",
    "print(anime_df[[\"Start airing\",\"End airing\"]].dtypes)\n",
    "# Test ô 382 ban đầu chứa giá trị NaN:\n",
    "print(\"\\nData type of cell 382 after being transformed:\", anime_df[\"Start airing\"].iloc[382])"
   ]
  },
  {
   "cell_type": "markdown",
   "metadata": {},
   "source": [
    "### Chuyển dtype của cột \"Episodes\" sang float"
   ]
  },
  {
   "cell_type": "markdown",
   "metadata": {},
   "source": [
    "Chuyển đổi `dtype` của cột \"Episodes\" thành float khá đơn giản bằng `astype(float)`."
   ]
  },
  {
   "cell_type": "code",
   "execution_count": 8,
   "metadata": {},
   "outputs": [
    {
     "data": {
      "text/plain": [
       "dtype('float64')"
      ]
     },
     "execution_count": 8,
     "metadata": {},
     "output_type": "execute_result"
    }
   ],
   "source": [
    "anime_df[\"Episodes\"] = anime_df[\"Episodes\"].astype(float)\n",
    "anime_df[\"Episodes\"].dtype"
   ]
  },
  {
   "cell_type": "markdown",
   "metadata": {},
   "source": [
    "---"
   ]
  },
  {
   "cell_type": "markdown",
   "metadata": {},
   "source": [
    "## Quay lại bước khám phá dữ liệu"
   ]
  },
  {
   "cell_type": "markdown",
   "metadata": {},
   "source": [
    "### Các cột dạng numeric và datetime có miền giá trị như thế nào?"
   ]
  },
  {
   "cell_type": "code",
   "execution_count": 9,
   "metadata": {},
   "outputs": [
    {
     "name": "stdout",
     "output_type": "stream",
     "text": [
      "<class 'pandas.core.frame.DataFrame'>\n",
      "RangeIndex: 1563 entries, 0 to 1562\n",
      "Data columns (total 16 columns):\n",
      " #   Column           Non-Null Count  Dtype         \n",
      "---  ------           --------------  -----         \n",
      " 0   Title            1563 non-null   object        \n",
      " 1   Type             1563 non-null   object        \n",
      " 2   Episodes         1552 non-null   float64       \n",
      " 3   Status           1563 non-null   object        \n",
      " 4   Start airing     1549 non-null   datetime64[ns]\n",
      " 5   End airing       978 non-null    datetime64[ns]\n",
      " 6   Starting season  821 non-null    object        \n",
      " 7   Producers        1187 non-null   object        \n",
      " 8   Studios          1517 non-null   object        \n",
      " 9   Sources          1463 non-null   object        \n",
      " 10  Genres           1563 non-null   object        \n",
      " 11  Classification   1563 non-null   object        \n",
      " 12  Score            1563 non-null   float64       \n",
      " 13  Scored by        1563 non-null   int64         \n",
      " 14  Members          1563 non-null   int64         \n",
      " 15  Favorites        1563 non-null   int64         \n",
      "dtypes: datetime64[ns](2), float64(2), int64(3), object(9)\n",
      "memory usage: 195.5+ KB\n"
     ]
    }
   ],
   "source": [
    "anime_df.info()"
   ]
  },
  {
   "cell_type": "markdown",
   "metadata": {},
   "source": [
    "Ta có 7 cột có dạng numeric hoặc datetime: \"Episodes\", \"Start airing\", \"End airing\", \"Score\", \"Score by\", \"Members\", \"Favorites\". Thực hiện tính miền giá trị (min, max) của 7 cột này và lưu kết quả vào dataframe `col_ranges_df`. Dataframe này có 2 dòng là \"min\", \"max\"; có 7 cột là \"Episodes\", \"Start airing\", \"End airing\", \"Score\", \"Score by\", \"Members\", \"Favorites\"."
   ]
  },
  {
   "cell_type": "code",
   "execution_count": 10,
   "metadata": {},
   "outputs": [
    {
     "data": {
      "text/html": [
       "<div>\n",
       "<style scoped>\n",
       "    .dataframe tbody tr th:only-of-type {\n",
       "        vertical-align: middle;\n",
       "    }\n",
       "\n",
       "    .dataframe tbody tr th {\n",
       "        vertical-align: top;\n",
       "    }\n",
       "\n",
       "    .dataframe thead th {\n",
       "        text-align: right;\n",
       "    }\n",
       "</style>\n",
       "<table border=\"1\" class=\"dataframe\">\n",
       "  <thead>\n",
       "    <tr style=\"text-align: right;\">\n",
       "      <th></th>\n",
       "      <th>Episodes</th>\n",
       "      <th>Start airing</th>\n",
       "      <th>End airing</th>\n",
       "      <th>Score</th>\n",
       "      <th>Scored by</th>\n",
       "      <th>Members</th>\n",
       "      <th>Favorites</th>\n",
       "    </tr>\n",
       "  </thead>\n",
       "  <tbody>\n",
       "    <tr>\n",
       "      <th>min</th>\n",
       "      <td>1.0</td>\n",
       "      <td>1970-04-01</td>\n",
       "      <td>1971-09-29</td>\n",
       "      <td>7.48</td>\n",
       "      <td>144</td>\n",
       "      <td>781</td>\n",
       "      <td>1</td>\n",
       "    </tr>\n",
       "    <tr>\n",
       "      <th>max</th>\n",
       "      <td>1787.0</td>\n",
       "      <td>2018-04-13</td>\n",
       "      <td>2019-08-16</td>\n",
       "      <td>9.25</td>\n",
       "      <td>993775</td>\n",
       "      <td>1432871</td>\n",
       "      <td>105387</td>\n",
       "    </tr>\n",
       "  </tbody>\n",
       "</table>\n",
       "</div>"
      ],
      "text/plain": [
       "     Episodes Start airing End airing  Score  Scored by  Members  Favorites\n",
       "min       1.0   1970-04-01 1971-09-29   7.48        144      781          1\n",
       "max    1787.0   2018-04-13 2019-08-16   9.25     993775  1432871     105387"
      ]
     },
     "execution_count": 10,
     "metadata": {},
     "output_type": "execute_result"
    }
   ],
   "source": [
    "num_col_names = anime_df.dtypes.index[anime_df.dtypes != \"object\"]\n",
    "col_ranges_df = anime_df.loc[:, num_col_names].agg([\"min\", \"max\"])\n",
    "col_ranges_df"
   ]
  },
  {
   "cell_type": "markdown",
   "metadata": {},
   "source": [
    "### Các cột dạng categorical có các giá trị nào?"
   ]
  },
  {
   "cell_type": "code",
   "execution_count": 11,
   "metadata": {},
   "outputs": [
    {
     "name": "stdout",
     "output_type": "stream",
     "text": [
      "<class 'pandas.core.frame.DataFrame'>\n",
      "RangeIndex: 1563 entries, 0 to 1562\n",
      "Data columns (total 16 columns):\n",
      " #   Column           Non-Null Count  Dtype         \n",
      "---  ------           --------------  -----         \n",
      " 0   Title            1563 non-null   object        \n",
      " 1   Type             1563 non-null   object        \n",
      " 2   Episodes         1552 non-null   float64       \n",
      " 3   Status           1563 non-null   object        \n",
      " 4   Start airing     1549 non-null   datetime64[ns]\n",
      " 5   End airing       978 non-null    datetime64[ns]\n",
      " 6   Starting season  821 non-null    object        \n",
      " 7   Producers        1187 non-null   object        \n",
      " 8   Studios          1517 non-null   object        \n",
      " 9   Sources          1463 non-null   object        \n",
      " 10  Genres           1563 non-null   object        \n",
      " 11  Classification   1563 non-null   object        \n",
      " 12  Score            1563 non-null   float64       \n",
      " 13  Scored by        1563 non-null   int64         \n",
      " 14  Members          1563 non-null   int64         \n",
      " 15  Favorites        1563 non-null   int64         \n",
      "dtypes: datetime64[ns](2), float64(2), int64(3), object(9)\n",
      "memory usage: 195.5+ KB\n"
     ]
    }
   ],
   "source": [
    "anime_df.info()"
   ]
  },
  {
   "cell_type": "markdown",
   "metadata": {},
   "source": [
    "`anime_df` có 8 cột dạng categorical là \"Type\", \"Status\", \"Starting season\", \"Producers\", \"Studios\", \"Sources\", \"Genres\", \"Classification\". Tuy nhiên, ta sẽ không xét cột \"Status\" vì nó chỉ có 2 trạng thái là \"Finished Airing\" và \"Currently Airing\". 7 cột còn lại ta tính \"range\" của mỗi cột này: số lượng các giá trị khác nhau (không tính NaN), và list gồm 3 giá trị khác nhau đầu tiên sau khi đã sort tăng dần tất cả các giá trị khác nhau. Kết quả lưu vào dataframe `cat_col_ranges_df`. Dataframe này có 2 dòng là \"num_unique_values\", \"three_first_values\"; và có 7 cột là \"Type\", \"Starting season\", \"Producers\", \"Studios\", \"Sources\", \"Genres\", \"Classification\"."
   ]
  },
  {
   "cell_type": "code",
   "execution_count": 12,
   "metadata": {
    "scrolled": true
   },
   "outputs": [
    {
     "data": {
      "text/html": [
       "<div>\n",
       "<style scoped>\n",
       "    .dataframe tbody tr th:only-of-type {\n",
       "        vertical-align: middle;\n",
       "    }\n",
       "\n",
       "    .dataframe tbody tr th {\n",
       "        vertical-align: top;\n",
       "    }\n",
       "\n",
       "    .dataframe thead th {\n",
       "        text-align: right;\n",
       "    }\n",
       "</style>\n",
       "<table border=\"1\" class=\"dataframe\">\n",
       "  <thead>\n",
       "    <tr style=\"text-align: right;\">\n",
       "      <th></th>\n",
       "      <th>Type</th>\n",
       "      <th>Studios</th>\n",
       "      <th>Classification</th>\n",
       "      <th>Sources</th>\n",
       "      <th>Genres</th>\n",
       "      <th>Starting season</th>\n",
       "      <th>Producers</th>\n",
       "    </tr>\n",
       "  </thead>\n",
       "  <tbody>\n",
       "    <tr>\n",
       "      <th>num_unique_values</th>\n",
       "      <td>6</td>\n",
       "      <td>199</td>\n",
       "      <td>4</td>\n",
       "      <td>13</td>\n",
       "      <td>1003</td>\n",
       "      <td>4</td>\n",
       "      <td>808</td>\n",
       "    </tr>\n",
       "    <tr>\n",
       "      <th>three_first_values</th>\n",
       "      <td>[Movie, Music, ONA]</td>\n",
       "      <td>[8bit, A-1 Pictures, A-1 Pictures,Bridge]</td>\n",
       "      <td>[G, PG, PG-13]</td>\n",
       "      <td>[4-koma manga, Book, Card game]</td>\n",
       "      <td>[Action, Action,Adventure, Action,Adventure,Co...</td>\n",
       "      <td>[Fall, Spring, Summer]</td>\n",
       "      <td>[5pb., AIC, AMG MUSIC]</td>\n",
       "    </tr>\n",
       "  </tbody>\n",
       "</table>\n",
       "</div>"
      ],
      "text/plain": [
       "                                   Type  \\\n",
       "num_unique_values                     6   \n",
       "three_first_values  [Movie, Music, ONA]   \n",
       "\n",
       "                                                      Studios  Classification  \\\n",
       "num_unique_values                                         199               4   \n",
       "three_first_values  [8bit, A-1 Pictures, A-1 Pictures,Bridge]  [G, PG, PG-13]   \n",
       "\n",
       "                                            Sources  \\\n",
       "num_unique_values                                13   \n",
       "three_first_values  [4-koma manga, Book, Card game]   \n",
       "\n",
       "                                                               Genres  \\\n",
       "num_unique_values                                                1003   \n",
       "three_first_values  [Action, Action,Adventure, Action,Adventure,Co...   \n",
       "\n",
       "                           Starting season               Producers  \n",
       "num_unique_values                        4                     808  \n",
       "three_first_values  [Fall, Spring, Summer]  [5pb., AIC, AMG MUSIC]  "
      ]
     },
     "execution_count": 12,
     "metadata": {},
     "output_type": "execute_result"
    }
   ],
   "source": [
    "cat_col_names = set(anime_df.dtypes.index[anime_df.dtypes == \"object\"]) - {\"Title\",\"Status\"}\n",
    "num_unique_values = anime_df.nunique()\n",
    "three_first_values = anime_df[cat_col_names].apply(lambda x: list(x.sort_values().unique())[:3])\n",
    "cat_col_ranges_df = pd.DataFrame(columns=cat_col_names)\n",
    "cat_col_ranges_df.loc[\"num_unique_values\"]=num_unique_values\n",
    "cat_col_ranges_df.loc[\"three_first_values\"]=three_first_values\n",
    "cat_col_ranges_df"
   ]
  },
  {
   "cell_type": "markdown",
   "metadata": {},
   "source": [
    "### Mỗi cột có bao nhiêu giá trị thiếu?"
   ]
  },
  {
   "cell_type": "markdown",
   "metadata": {},
   "source": [
    "Ta tính số lượng giá trị thiếu của mỗi cột và lưu kết quả vào series `col_num_nans`, trong đó index là tên cột."
   ]
  },
  {
   "cell_type": "code",
   "execution_count": 13,
   "metadata": {},
   "outputs": [
    {
     "data": {
      "text/plain": [
       "Episodes            11\n",
       "Start airing        14\n",
       "End airing         585\n",
       "Starting season    742\n",
       "Producers          376\n",
       "Studios             46\n",
       "Sources            100\n",
       "dtype: int64"
      ]
     },
     "execution_count": 13,
     "metadata": {},
     "output_type": "execute_result"
    }
   ],
   "source": [
    "col_num_nans = anime_df[[\"Episodes\", \"Start airing\", \"End airing\", \"Starting season\", \"Producers\", \"Studios\", \"Sources\"]].isna().sum()\n",
    "col_num_nans"
   ]
  },
  {
   "cell_type": "markdown",
   "metadata": {},
   "source": [
    "---"
   ]
  },
  {
   "cell_type": "markdown",
   "metadata": {},
   "source": [
    "## Đưa ra các câu hỏi cần trả lời"
   ]
  },
  {
   "cell_type": "markdown",
   "metadata": {},
   "source": [
    "Dưới đây là một số câu hỏi có thể trả lời bằng dữ liệu:\n",
    "- Những bộ anime nào đáng xem nhất theo mỗi phân loại (Classification)?\n",
    "- Số lượng anime được sản xuất theo mỗi thể loại (Genres) là bao nhiêu?\n",
    "- Trong 5 năm gần đây, số bộ anime được chuyển thể từ các nguồn khác nhau (Sources) thay đổi như thế nào?"
   ]
  },
  {
   "cell_type": "markdown",
   "metadata": {},
   "source": [
    "---"
   ]
  },
  {
   "cell_type": "markdown",
   "metadata": {},
   "source": [
    "## Tiền xử lý"
   ]
  },
  {
   "cell_type": "markdown",
   "metadata": {},
   "source": [
    "### Thêm cột \"Year\" vào dataframe"
   ]
  },
  {
   "cell_type": "markdown",
   "metadata": {},
   "source": [
    "Câu hỏi thứ 3 ở trên cần sử dụng đến năm phát sóng của bộ anime. Vì vậy, ta sẽ thêm cột \"Year\" vào `anime_df`. Tuy nhiên, ở đây ta chỉ xét đến năm bắt đầu phát sóng của bộ anime này, tức sử dụng năm của \"Start airing\"."
   ]
  },
  {
   "cell_type": "code",
   "execution_count": 14,
   "metadata": {},
   "outputs": [
    {
     "data": {
      "text/html": [
       "<div>\n",
       "<style scoped>\n",
       "    .dataframe tbody tr th:only-of-type {\n",
       "        vertical-align: middle;\n",
       "    }\n",
       "\n",
       "    .dataframe tbody tr th {\n",
       "        vertical-align: top;\n",
       "    }\n",
       "\n",
       "    .dataframe thead th {\n",
       "        text-align: right;\n",
       "    }\n",
       "</style>\n",
       "<table border=\"1\" class=\"dataframe\">\n",
       "  <thead>\n",
       "    <tr style=\"text-align: right;\">\n",
       "      <th></th>\n",
       "      <th>Title</th>\n",
       "      <th>Type</th>\n",
       "      <th>Episodes</th>\n",
       "      <th>Status</th>\n",
       "      <th>Start airing</th>\n",
       "      <th>End airing</th>\n",
       "      <th>Starting season</th>\n",
       "      <th>Producers</th>\n",
       "      <th>Studios</th>\n",
       "      <th>Sources</th>\n",
       "      <th>Genres</th>\n",
       "      <th>Classification</th>\n",
       "      <th>Score</th>\n",
       "      <th>Scored by</th>\n",
       "      <th>Members</th>\n",
       "      <th>Favorites</th>\n",
       "      <th>Year</th>\n",
       "    </tr>\n",
       "  </thead>\n",
       "  <tbody>\n",
       "    <tr>\n",
       "      <th>0</th>\n",
       "      <td>Fullmetal Alchemist: Brotherhood</td>\n",
       "      <td>TV</td>\n",
       "      <td>64.0</td>\n",
       "      <td>Finished Airing</td>\n",
       "      <td>2009-04-05</td>\n",
       "      <td>2010-07-04</td>\n",
       "      <td>Spring</td>\n",
       "      <td>Aniplex,Square Enix,Mainichi Broadcasting Syst...</td>\n",
       "      <td>Bones</td>\n",
       "      <td>Manga</td>\n",
       "      <td>Action,Military,Adventure,Comedy,Drama,Magic,F...</td>\n",
       "      <td>R</td>\n",
       "      <td>9.25</td>\n",
       "      <td>719706</td>\n",
       "      <td>1176368</td>\n",
       "      <td>105387</td>\n",
       "      <td>2009.0</td>\n",
       "    </tr>\n",
       "    <tr>\n",
       "      <th>1</th>\n",
       "      <td>Kimi no Na wa.</td>\n",
       "      <td>Movie</td>\n",
       "      <td>1.0</td>\n",
       "      <td>Finished Airing</td>\n",
       "      <td>2016-08-26</td>\n",
       "      <td>NaT</td>\n",
       "      <td>NaN</td>\n",
       "      <td>Kadokawa Shoten,Toho,Sound Team Don Juan,Lawso...</td>\n",
       "      <td>CoMix Wave Films</td>\n",
       "      <td>Original</td>\n",
       "      <td>Supernatural,Drama,Romance,School</td>\n",
       "      <td>PG-13</td>\n",
       "      <td>9.19</td>\n",
       "      <td>454969</td>\n",
       "      <td>705186</td>\n",
       "      <td>33936</td>\n",
       "      <td>2016.0</td>\n",
       "    </tr>\n",
       "    <tr>\n",
       "      <th>2</th>\n",
       "      <td>Gintama°</td>\n",
       "      <td>TV</td>\n",
       "      <td>51.0</td>\n",
       "      <td>Finished Airing</td>\n",
       "      <td>2015-04-08</td>\n",
       "      <td>2016-03-30</td>\n",
       "      <td>Spring</td>\n",
       "      <td>TV Tokyo,Aniplex,Dentsu</td>\n",
       "      <td>Bandai Namco Pictures</td>\n",
       "      <td>Manga</td>\n",
       "      <td>Action,Comedy,Historical,Parody,Samurai,Sci-Fi...</td>\n",
       "      <td>R</td>\n",
       "      <td>9.16</td>\n",
       "      <td>70279</td>\n",
       "      <td>194359</td>\n",
       "      <td>5597</td>\n",
       "      <td>2015.0</td>\n",
       "    </tr>\n",
       "    <tr>\n",
       "      <th>3</th>\n",
       "      <td>Steins;Gate 0</td>\n",
       "      <td>TV</td>\n",
       "      <td>23.0</td>\n",
       "      <td>Currently Airing</td>\n",
       "      <td>2018-04-12</td>\n",
       "      <td>NaT</td>\n",
       "      <td>Spring</td>\n",
       "      <td>Nitroplus</td>\n",
       "      <td>White Fox</td>\n",
       "      <td>Visual novel</td>\n",
       "      <td>Sci-Fi,Thriller</td>\n",
       "      <td>PG-13</td>\n",
       "      <td>9.16</td>\n",
       "      <td>12609</td>\n",
       "      <td>186331</td>\n",
       "      <td>1117</td>\n",
       "      <td>2018.0</td>\n",
       "    </tr>\n",
       "    <tr>\n",
       "      <th>4</th>\n",
       "      <td>Steins;Gate</td>\n",
       "      <td>TV</td>\n",
       "      <td>24.0</td>\n",
       "      <td>Finished Airing</td>\n",
       "      <td>2011-04-06</td>\n",
       "      <td>2011-09-14</td>\n",
       "      <td>Spring</td>\n",
       "      <td>Frontier Works,Media Factory,Movic,AT-X,Kadoka...</td>\n",
       "      <td>White Fox</td>\n",
       "      <td>Visual novel</td>\n",
       "      <td>Sci-Fi,Thriller</td>\n",
       "      <td>PG-13</td>\n",
       "      <td>9.14</td>\n",
       "      <td>552791</td>\n",
       "      <td>990419</td>\n",
       "      <td>90365</td>\n",
       "      <td>2011.0</td>\n",
       "    </tr>\n",
       "  </tbody>\n",
       "</table>\n",
       "</div>"
      ],
      "text/plain": [
       "                              Title   Type  Episodes            Status  \\\n",
       "0  Fullmetal Alchemist: Brotherhood     TV      64.0   Finished Airing   \n",
       "1                    Kimi no Na wa.  Movie       1.0   Finished Airing   \n",
       "2                          Gintama°     TV      51.0   Finished Airing   \n",
       "3                     Steins;Gate 0     TV      23.0  Currently Airing   \n",
       "4                       Steins;Gate     TV      24.0   Finished Airing   \n",
       "\n",
       "  Start airing End airing Starting season  \\\n",
       "0   2009-04-05 2010-07-04          Spring   \n",
       "1   2016-08-26        NaT             NaN   \n",
       "2   2015-04-08 2016-03-30          Spring   \n",
       "3   2018-04-12        NaT          Spring   \n",
       "4   2011-04-06 2011-09-14          Spring   \n",
       "\n",
       "                                           Producers                Studios  \\\n",
       "0  Aniplex,Square Enix,Mainichi Broadcasting Syst...                  Bones   \n",
       "1  Kadokawa Shoten,Toho,Sound Team Don Juan,Lawso...       CoMix Wave Films   \n",
       "2                            TV Tokyo,Aniplex,Dentsu  Bandai Namco Pictures   \n",
       "3                                          Nitroplus              White Fox   \n",
       "4  Frontier Works,Media Factory,Movic,AT-X,Kadoka...              White Fox   \n",
       "\n",
       "        Sources                                             Genres  \\\n",
       "0         Manga  Action,Military,Adventure,Comedy,Drama,Magic,F...   \n",
       "1      Original                  Supernatural,Drama,Romance,School   \n",
       "2         Manga  Action,Comedy,Historical,Parody,Samurai,Sci-Fi...   \n",
       "3  Visual novel                                    Sci-Fi,Thriller   \n",
       "4  Visual novel                                    Sci-Fi,Thriller   \n",
       "\n",
       "  Classification  Score  Scored by  Members  Favorites    Year  \n",
       "0              R   9.25     719706  1176368     105387  2009.0  \n",
       "1          PG-13   9.19     454969   705186      33936  2016.0  \n",
       "2              R   9.16      70279   194359       5597  2015.0  \n",
       "3          PG-13   9.16      12609   186331       1117  2018.0  \n",
       "4          PG-13   9.14     552791   990419      90365  2011.0  "
      ]
     },
     "execution_count": 14,
     "metadata": {},
     "output_type": "execute_result"
    }
   ],
   "source": [
    "anime_df[\"Year\"]=anime_df[\"Start airing\"].dt.year\n",
    "anime_df.head()"
   ]
  },
  {
   "cell_type": "markdown",
   "metadata": {},
   "source": [
    "---"
   ]
  },
  {
   "cell_type": "markdown",
   "metadata": {},
   "source": [
    "## Phân tích dữ liệu để trả lời cho các câu hỏi"
   ]
  },
  {
   "cell_type": "markdown",
   "metadata": {},
   "source": [
    "### Những bộ anime nào đáng xem nhất theo mỗi phân loại (Classification)?"
   ]
  },
  {
   "cell_type": "markdown",
   "metadata": {},
   "source": [
    "Để đánh giá bộ nào đáng xem, ta sẽ dựa vào tiêu chí \"Score\". Kết quả được lưu vào dataframe `BestAnimes`. DataFrame này có 3 cột là Classification (phân loại theo tuổi), Title (tên anime) và Score (Số điểm đánh giá); mỗi dòng là thông tin của 1 bộ anime đáng xem nhất theo phân lớp độ tuổi đó."
   ]
  },
  {
   "cell_type": "code",
   "execution_count": 15,
   "metadata": {},
   "outputs": [
    {
     "data": {
      "text/html": [
       "<div>\n",
       "<style scoped>\n",
       "    .dataframe tbody tr th:only-of-type {\n",
       "        vertical-align: middle;\n",
       "    }\n",
       "\n",
       "    .dataframe tbody tr th {\n",
       "        vertical-align: top;\n",
       "    }\n",
       "\n",
       "    .dataframe thead th {\n",
       "        text-align: right;\n",
       "    }\n",
       "</style>\n",
       "<table border=\"1\" class=\"dataframe\">\n",
       "  <thead>\n",
       "    <tr style=\"text-align: right;\">\n",
       "      <th></th>\n",
       "      <th>Classification</th>\n",
       "      <th>Title</th>\n",
       "      <th>Score</th>\n",
       "    </tr>\n",
       "  </thead>\n",
       "  <tbody>\n",
       "    <tr>\n",
       "      <th>0</th>\n",
       "      <td>R</td>\n",
       "      <td>Fullmetal Alchemist: Brotherhood</td>\n",
       "      <td>9.25</td>\n",
       "    </tr>\n",
       "    <tr>\n",
       "      <th>1</th>\n",
       "      <td>PG-13</td>\n",
       "      <td>Kimi no Na wa.</td>\n",
       "      <td>9.19</td>\n",
       "    </tr>\n",
       "    <tr>\n",
       "      <th>2</th>\n",
       "      <td>PG</td>\n",
       "      <td>Sen to Chihiro no Kamikakushi</td>\n",
       "      <td>8.92</td>\n",
       "    </tr>\n",
       "    <tr>\n",
       "      <th>3</th>\n",
       "      <td>G</td>\n",
       "      <td>Howl no Ugoku Shiro</td>\n",
       "      <td>8.73</td>\n",
       "    </tr>\n",
       "  </tbody>\n",
       "</table>\n",
       "</div>"
      ],
      "text/plain": [
       "  Classification                             Title  Score\n",
       "0              R  Fullmetal Alchemist: Brotherhood   9.25\n",
       "1          PG-13                    Kimi no Na wa.   9.19\n",
       "2             PG     Sen to Chihiro no Kamikakushi   8.92\n",
       "3              G               Howl no Ugoku Shiro   8.73"
      ]
     },
     "execution_count": 15,
     "metadata": {},
     "output_type": "execute_result"
    }
   ],
   "source": [
    "idx = anime_df.groupby(\"Classification\")[\"Score\"].idxmax()\n",
    "BestAnimes=anime_df[[\"Classification\",\"Title\",\"Score\"]].iloc[idx].sort_values(by ='Score', ascending=False)\n",
    "BestAnimes.reset_index(drop=True)"
   ]
  },
  {
   "cell_type": "markdown",
   "metadata": {},
   "source": [
    "#### **Ý nghĩa:**"
   ]
  },
  {
   "cell_type": "markdown",
   "metadata": {},
   "source": [
    "Kết quả thu được giúp cho những người chưa xem anime bao giờ (muốn xem thử) cũng như những người đã xem (muốn xem thêm) tìm được những bộ đáng xem nhất. Quan trọng hơn hết là nó phù hợp với độ tuổi, ở đây ta nhắc lại về Classification:\n",
    "- G: Dành cho mọi lứa tuổi.\n",
    "- R: Thanh thiếu niên 17 tuổi cần sự cho phép của người lớn.\n",
    "- PG-13: Không phù hợp với trẻ dưới 13 tuổi.\n",
    "- PG: Không phù hợp với trẻ nhỏ."
   ]
  },
  {
   "cell_type": "markdown",
   "metadata": {},
   "source": [
    "### Số lượng anime được sản xuất theo mỗi thể loại (Genres) là bao nhiêu?"
   ]
  },
  {
   "cell_type": "markdown",
   "metadata": {},
   "source": [
    "Để trả lời cho câu hỏi này, ta sẽ làm 2 bước sau:\n",
    "- Bước 1: Từ cột \"Genres\" ta tính số lượng anime được sản xuất dựa trên thể loại (Ví dụ: \"Sci-Fi,Thriller\" thì ta cộng 1 cho \"Sci-Fi\" và cộng 1 cho \"Thriller\"). Kết quả sẽ được lưu vào series `num_genres`, series này có index là genres.\n",
    "- Bước 2: Vẽ đồ thị dạng bar chart, trong đó trục tung là thể loại, trục hoành là số lượng phim đã sản xuất. Đặt tên trục hoành là \"NumAnimes\", đặt tên trục tung là \"Genres\"."
   ]
  },
  {
   "cell_type": "markdown",
   "metadata": {},
   "source": [
    "Code bước 1."
   ]
  },
  {
   "cell_type": "code",
   "execution_count": 16,
   "metadata": {
    "scrolled": true
   },
   "outputs": [
    {
     "data": {
      "text/plain": [
       "Action           563.0\n",
       "Adventure        362.0\n",
       "Cars              15.0\n",
       "Comedy           763.0\n",
       "Dementia           7.0\n",
       "Demons            66.0\n",
       "Drama            515.0\n",
       "Fantasy          345.0\n",
       "Game              33.0\n",
       "Harem             17.0\n",
       "Historical       152.0\n",
       "Horror            36.0\n",
       "Josei             30.0\n",
       "Kids              31.0\n",
       "Magic            146.0\n",
       "Martial Arts      43.0\n",
       "Mecha            118.0\n",
       "Military         123.0\n",
       "Music             78.0\n",
       "Mystery          215.0\n",
       "Parody            75.0\n",
       "Police            66.0\n",
       "Psychological     91.0\n",
       "Romance          352.0\n",
       "Samurai           39.0\n",
       "School           296.0\n",
       "Sci-Fi           292.0\n",
       "Seinen           152.0\n",
       "Shoujo           130.0\n",
       "Shoujo Ai         13.0\n",
       "Shounen          450.0\n",
       "Shounen Ai        21.0\n",
       "Slice of Life    320.0\n",
       "Space             72.0\n",
       "Sports           132.0\n",
       "Super Power      130.0\n",
       "Supernatural     304.0\n",
       "Thriller          44.0\n",
       "Vampire           24.0\n",
       "dtype: float64"
      ]
     },
     "execution_count": 16,
     "metadata": {},
     "output_type": "execute_result"
    }
   ],
   "source": [
    "df = anime_df\n",
    "df = df['Genres'].str.split(',', expand=True)\n",
    "num_genres = df.apply(pd.Series.value_counts).fillna(0).sum(axis=1)\n",
    "num_genres"
   ]
  },
  {
   "cell_type": "markdown",
   "metadata": {},
   "source": [
    "Code bước 2."
   ]
  },
  {
   "cell_type": "code",
   "execution_count": 17,
   "metadata": {},
   "outputs": [
    {
     "data": {
      "image/png": "[encoded data removed]",
      "text/plain": [
       "<Figure size 1152x720 with 1 Axes>"
      ]
     },
     "metadata": {
      "needs_background": "light"
     },
     "output_type": "display_data"
    }
   ],
   "source": [
    "plt.figure(figsize=(16,10))\n",
    "num_genres.sort_values().plot.barh()\n",
    "plt.title(\"Number of animes produced by genres\", fontsize=15)\n",
    "plt.xlabel(\"NumAnimes\", fontsize=12)\n",
    "plt.ylabel(\"Genres\", fontsize=12)\n",
    "plt.show()"
   ]
  },
  {
   "cell_type": "markdown",
   "metadata": {},
   "source": [
    "**Ý nghĩa:**"
   ]
  },
  {
   "cell_type": "markdown",
   "metadata": {},
   "source": [
    "Kết quả cho ta thấy những thể loại nào sẽ được sản xuất từ nhiều nhất đến ít nhất. Có vẻ các yếu tố (Comedy, Action, Drama) được người xem rất ưa chuộng nên mới được Producers thêm vào nhiều như vậy. Đặc biệt là Comedy (Hài hước) được đặt lên hàng đầu, yếu tố này rất quan trọng trong 1 bộ anime, tạo nên sự cân bằng để bộ anime có thể thu hút được khán giả."
   ]
  },
  {
   "cell_type": "markdown",
   "metadata": {},
   "source": [
    "### Trong 5 năm gần đây, số bộ anime được chuyển thể từ các nguồn khác nhau (Sources) thay đổi như thế nào?"
   ]
  },
  {
   "cell_type": "markdown",
   "metadata": {},
   "source": [
    "Kết quả được lưu vào dataframe `num_animes_each_source`; với 3 cột là Year (Năm), Sources (Các loại nguồn để sản xuất thành anime) và \"counts\" (số lượng anime của mỗi nguồn theo năm)."
   ]
  },
  {
   "cell_type": "code",
   "execution_count": 26,
   "metadata": {
    "scrolled": true
   },
   "outputs": [
    {
     "data": {
      "text/plain": [
       "Index(['Manga', 'Original', 'Light novel'], dtype='object', name='Sources')"
      ]
     },
     "execution_count": 26,
     "metadata": {},
     "output_type": "execute_result"
    }
   ],
   "source": [
    "five_recent_years = anime_df[anime_df.Year > anime_df.Year.max()-5]\n",
    "num_animes_each_source = five_recent_years.groupby([\"Year\",\"Sources\"])[\"Title\"].agg(\"count\").reset_index(name='counts')\n",
    "num_animes_each_source.Year=num_animes_each_source.Year.astype(int)\n",
    "three_popular_sources = num_animes_each_source.groupby(\"Sources\")[\"counts\"].agg(\"sum\").sort_values(ascending=False)[:3]\n",
    "three_popular_sources.index"
   ]
  },
  {
   "cell_type": "code",
   "execution_count": 19,
   "metadata": {},
   "outputs": [
    {
     "data": {
      "text/html": [
       "<div>\n",
       "<style scoped>\n",
       "    .dataframe tbody tr th:only-of-type {\n",
       "        vertical-align: middle;\n",
       "    }\n",
       "\n",
       "    .dataframe tbody tr th {\n",
       "        vertical-align: top;\n",
       "    }\n",
       "\n",
       "    .dataframe thead th {\n",
       "        text-align: right;\n",
       "    }\n",
       "</style>\n",
       "<table border=\"1\" class=\"dataframe\">\n",
       "  <thead>\n",
       "    <tr style=\"text-align: right;\">\n",
       "      <th></th>\n",
       "      <th>4-koma manga</th>\n",
       "      <th>Game</th>\n",
       "      <th>Light novel</th>\n",
       "      <th>Manga</th>\n",
       "      <th>Music</th>\n",
       "      <th>Novel</th>\n",
       "      <th>Original</th>\n",
       "      <th>Other</th>\n",
       "      <th>Visual novel</th>\n",
       "      <th>Web manga</th>\n",
       "      <th>Card game</th>\n",
       "      <th>Picture book</th>\n",
       "    </tr>\n",
       "  </thead>\n",
       "  <tbody>\n",
       "    <tr>\n",
       "      <th>2014</th>\n",
       "      <td>NaN</td>\n",
       "      <td>NaN</td>\n",
       "      <td>NaN</td>\n",
       "      <td>NaN</td>\n",
       "      <td>NaN</td>\n",
       "      <td>NaN</td>\n",
       "      <td>NaN</td>\n",
       "      <td>NaN</td>\n",
       "      <td>NaN</td>\n",
       "      <td>NaN</td>\n",
       "      <td>NaN</td>\n",
       "      <td>NaN</td>\n",
       "    </tr>\n",
       "    <tr>\n",
       "      <th>2015</th>\n",
       "      <td>NaN</td>\n",
       "      <td>NaN</td>\n",
       "      <td>NaN</td>\n",
       "      <td>NaN</td>\n",
       "      <td>NaN</td>\n",
       "      <td>NaN</td>\n",
       "      <td>NaN</td>\n",
       "      <td>NaN</td>\n",
       "      <td>NaN</td>\n",
       "      <td>NaN</td>\n",
       "      <td>NaN</td>\n",
       "      <td>NaN</td>\n",
       "    </tr>\n",
       "    <tr>\n",
       "      <th>2016</th>\n",
       "      <td>NaN</td>\n",
       "      <td>NaN</td>\n",
       "      <td>NaN</td>\n",
       "      <td>NaN</td>\n",
       "      <td>NaN</td>\n",
       "      <td>NaN</td>\n",
       "      <td>NaN</td>\n",
       "      <td>NaN</td>\n",
       "      <td>NaN</td>\n",
       "      <td>NaN</td>\n",
       "      <td>NaN</td>\n",
       "      <td>NaN</td>\n",
       "    </tr>\n",
       "    <tr>\n",
       "      <th>2017</th>\n",
       "      <td>NaN</td>\n",
       "      <td>NaN</td>\n",
       "      <td>NaN</td>\n",
       "      <td>NaN</td>\n",
       "      <td>NaN</td>\n",
       "      <td>NaN</td>\n",
       "      <td>NaN</td>\n",
       "      <td>NaN</td>\n",
       "      <td>NaN</td>\n",
       "      <td>NaN</td>\n",
       "      <td>NaN</td>\n",
       "      <td>NaN</td>\n",
       "    </tr>\n",
       "    <tr>\n",
       "      <th>2018</th>\n",
       "      <td>NaN</td>\n",
       "      <td>NaN</td>\n",
       "      <td>NaN</td>\n",
       "      <td>NaN</td>\n",
       "      <td>NaN</td>\n",
       "      <td>NaN</td>\n",
       "      <td>NaN</td>\n",
       "      <td>NaN</td>\n",
       "      <td>NaN</td>\n",
       "      <td>NaN</td>\n",
       "      <td>NaN</td>\n",
       "      <td>NaN</td>\n",
       "    </tr>\n",
       "  </tbody>\n",
       "</table>\n",
       "</div>"
      ],
      "text/plain": [
       "     4-koma manga Game Light novel Manga Music Novel Original Other  \\\n",
       "2014          NaN  NaN         NaN   NaN   NaN   NaN      NaN   NaN   \n",
       "2015          NaN  NaN         NaN   NaN   NaN   NaN      NaN   NaN   \n",
       "2016          NaN  NaN         NaN   NaN   NaN   NaN      NaN   NaN   \n",
       "2017          NaN  NaN         NaN   NaN   NaN   NaN      NaN   NaN   \n",
       "2018          NaN  NaN         NaN   NaN   NaN   NaN      NaN   NaN   \n",
       "\n",
       "     Visual novel Web manga Card game Picture book  \n",
       "2014          NaN       NaN       NaN          NaN  \n",
       "2015          NaN       NaN       NaN          NaN  \n",
       "2016          NaN       NaN       NaN          NaN  \n",
       "2017          NaN       NaN       NaN          NaN  \n",
       "2018          NaN       NaN       NaN          NaN  "
      ]
     },
     "execution_count": 19,
     "metadata": {},
     "output_type": "execute_result"
    }
   ],
   "source": [
    "df=num_animes_each_source\n",
    "from collections import Counter\n",
    "Counter(df.Year)\n",
    "df.Sources.unique()\n",
    "a=pd.DataFrame(columns=df.Sources.unique(), index=range(2014,2019))\n",
    "a"
   ]
  },
  {
   "cell_type": "markdown",
   "metadata": {},
   "source": [
    "**Ý nghĩa:**"
   ]
  },
  {
   "cell_type": "markdown",
   "metadata": {},
   "source": [
    "Có thể thấy rất nhiều bộ anime được chuyển thể từ manga, điều này chứng tỏ nếu đã có manga làm nền trước đó thì khả năng được sản xuất thành anime là khá cao. Kết quả này khuyến khích những tác giả nên vẽ manga (truyện tranh) nhiều hơn để có thể kiếm được một khoản kha khá từ việc mua bản quyền của Producers."
   ]
  },
  {
   "cell_type": "markdown",
   "metadata": {},
   "source": [
    "---"
   ]
  },
  {
   "cell_type": "markdown",
   "metadata": {},
   "source": [
    "## Nhìn lại quá trình làm đồ án"
   ]
  },
  {
   "cell_type": "markdown",
   "metadata": {},
   "source": [
    "### Khó khăn:\n",
    "- Dữ liệu có vẻ hơi thiếu xót (cần có cột ID để định danh) vì có rất nhiều bộ anime trùng tên được những nhà sản xuất và xưởng phim khác nhau làm lại. Mặc dù người thu nhập dữ liệu đã xử lý để các Title không trùng nhau nhưng chung quy thì vẫn là cùng 1 bộ phim, nếu phân biệt bằng ID thì sẽ rõ ràng hơn.\n",
    "- Việc đưa ra được một câu hỏi có ý nghĩa cần tốn khá nhiều thời gian và công sức."
   ]
  },
  {
   "cell_type": "markdown",
   "metadata": {},
   "source": [
    "### Những thứ học được:\n",
    "- Khả năng sử dụng thư viện numpy, pandas chuyên nghiệp hơn.\n",
    "- Nắm vững 1 quy trình khoa học dữ liệu là như thế nào."
   ]
  },
  {
   "cell_type": "markdown",
   "metadata": {},
   "source": [
    "### Làm gì nếu có thêm thời gian:\n",
    "- Đặt thêm nhiều câu hỏi thú vị hơn.\n",
    "- Tìm hiểu thêm trực quan hóa dữ liệu để thể hiện biểu đồ đẹp mắt."
   ]
  },
  {
   "cell_type": "markdown",
   "metadata": {},
   "source": [
    "## Tài liệu tham khảo:"
   ]
  },
  {
   "cell_type": "markdown",
   "metadata": {},
   "source": [
    "Tham khảo template \"BT03-Pandas.ipynb\" trên [thùng chứa môn học](https://drive.google.com/drive/folders/1EKaa7pQZMK4m0_gNQNf4oafXgPMQzbBc)"
   ]
  }
 ],
 "metadata": {
  "kernelspec": {
   "display_name": "Python 3",
   "language": "python",
   "name": "python3"
  },
  "language_info": {
   "codemirror_mode": {
    "name": "ipython",
    "version": 3
   },
   "file_extension": ".py",
   "mimetype": "text/x-python",
   "name": "python",
   "nbconvert_exporter": "python",
   "pygments_lexer": "ipython3",
   "version": "3.7.6"
  }
 },
 "nbformat": 4,
 "nbformat_minor": 4
}
