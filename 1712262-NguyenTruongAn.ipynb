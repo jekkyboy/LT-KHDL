{
 "cells": [
  {
   "cell_type": "markdown",
   "metadata": {},
   "source": [
    " # ĐỒ ÁN CUỐI KỲ - LẬP TRÌNH CHO KHOA HỌC DỮ LIỆU\n",
    " \n",
    " # PHÂN TÍCH DỮ LIỆU VỀ ANIME\n",
    " \n",
    " Họ tên: Nguyễn Trường An\n",
    " \n",
    " MSSV: 1712262"
   ]
  },
  {
   "cell_type": "markdown",
   "metadata": {},
   "source": [
    "---"
   ]
  },
  {
   "cell_type": "markdown",
   "metadata": {},
   "source": [
    "## Tổng quan về đề tài"
   ]
  },
  {
   "cell_type": "markdown",
   "metadata": {},
   "source": [
    "### Lí do chọn đề tài"
   ]
  },
  {
   "cell_type": "markdown",
   "metadata": {},
   "source": [
    "Anime (Phim hoạt hình Nhật Bản) là một đề tài khá phổ biến, bạn có thể chưa xem anime bao giờ nhưng bạn không thể chưa nghe đến nó. Quan trọng hơn hết là mình thích chủ đề này và từng xem khá nhiều bộ anime, điều đó có lẽ sẽ giúp mình giảm bớt khó khăn trong quá trình khám phá dữ liệu."
   ]
  },
  {
   "cell_type": "markdown",
   "metadata": {},
   "source": [
    "### Đề tài này sẽ cung cấp cho bạn thông tin gì hữu ích?"
   ]
  },
  {
   "cell_type": "markdown",
   "metadata": {},
   "source": [
    "- Đề xuất những bộ anime hay nhất phù hợp với lứa tuổi của bạn.\n",
    "- Những thể loại anime nào là phổ biến và được sản xuất nhiều nhất.\n",
    "- Nguồn gốc của những bộ anime này (nói cách khác là nó được chuyển thể từ đâu). Đâu là những nguồn cung cấp nhiều nhất trong 10 năm gần đây."
   ]
  },
  {
   "cell_type": "markdown",
   "metadata": {},
   "source": [
    "## Import"
   ]
  },
  {
   "cell_type": "code",
   "execution_count": 1,
   "metadata": {},
   "outputs": [],
   "source": [
    "%matplotlib inline\n",
    "import matplotlib.pyplot as plt\n",
    "import pandas as pd\n",
    "import numpy as np"
   ]
  },
  {
   "cell_type": "markdown",
   "metadata": {},
   "source": [
    "---"
   ]
  },
  {
   "cell_type": "markdown",
   "metadata": {},
   "source": [
    "## Lấy dữ liệu"
   ]
  },
  {
   "cell_type": "markdown",
   "metadata": {},
   "source": [
    "* Dữ liệu được dùng trong đồ án này là file \"dataanime.csv\" đính kèm. Đây là dữ liệu về những bộ anime (phim hoạt hình Nhật Bản) được lấy từ trang kaggle.com, và gốc của dữ liệu là [ở đây](https://www.kaggle.com/canggih/anime-data-score-staff-synopsis-and-genre)\n",
    "* License: [CC BY-NC-SA 4.0](https://creativecommons.org/licenses/by-nc-sa/4.0/) cho phép sao chép, chia sẻ, biến đổi,... dựa trên dữ liệu gốc.\n",
    "* Dữ liệu được thu thập từ trang: [MyAnimeList.net](http://www.myanimelist.net)"
   ]
  },
  {
   "cell_type": "markdown",
   "metadata": {},
   "source": [
    "---"
   ]
  },
  {
   "cell_type": "markdown",
   "metadata": {},
   "source": [
    "## Khám phá dữ liệu"
   ]
  },
  {
   "cell_type": "markdown",
   "metadata": {},
   "source": [
    "### Đọc dữ liệu từ file csv vào dataframe"
   ]
  },
  {
   "cell_type": "code",
   "execution_count": 2,
   "metadata": {},
   "outputs": [
    {
     "data": {
      "text/html": [
       "<div>\n",
       "<style scoped>\n",
       "    .dataframe tbody tr th:only-of-type {\n",
       "        vertical-align: middle;\n",
       "    }\n",
       "\n",
       "    .dataframe tbody tr th {\n",
       "        vertical-align: top;\n",
       "    }\n",
       "\n",
       "    .dataframe thead th {\n",
       "        text-align: right;\n",
       "    }\n",
       "</style>\n",
       "<table border=\"1\" class=\"dataframe\">\n",
       "  <thead>\n",
       "    <tr style=\"text-align: right;\">\n",
       "      <th></th>\n",
       "      <th>Title</th>\n",
       "      <th>Type</th>\n",
       "      <th>Episodes</th>\n",
       "      <th>Status</th>\n",
       "      <th>Start airing</th>\n",
       "      <th>End airing</th>\n",
       "      <th>Starting season</th>\n",
       "      <th>Studios</th>\n",
       "      <th>Sources</th>\n",
       "      <th>Genres</th>\n",
       "      <th>Rating</th>\n",
       "      <th>Score</th>\n",
       "      <th>Scored by</th>\n",
       "      <th>Members</th>\n",
       "      <th>Favorites</th>\n",
       "    </tr>\n",
       "  </thead>\n",
       "  <tbody>\n",
       "    <tr>\n",
       "      <th>0</th>\n",
       "      <td>Fullmetal Alchemist: Brotherhood</td>\n",
       "      <td>TV</td>\n",
       "      <td>64</td>\n",
       "      <td>Finished Airing</td>\n",
       "      <td>4/5/2009</td>\n",
       "      <td>7/4/2010</td>\n",
       "      <td>Spring</td>\n",
       "      <td>Bones</td>\n",
       "      <td>Manga</td>\n",
       "      <td>Action,Military,Adventure,Comedy,Drama,Magic,F...</td>\n",
       "      <td>R</td>\n",
       "      <td>9.25</td>\n",
       "      <td>719706</td>\n",
       "      <td>1176368</td>\n",
       "      <td>105387</td>\n",
       "    </tr>\n",
       "    <tr>\n",
       "      <th>1</th>\n",
       "      <td>Kimi no Na wa.</td>\n",
       "      <td>Movie</td>\n",
       "      <td>1</td>\n",
       "      <td>Finished Airing</td>\n",
       "      <td>8/26/2016</td>\n",
       "      <td>-</td>\n",
       "      <td>-</td>\n",
       "      <td>CoMix Wave Films</td>\n",
       "      <td>Light novel</td>\n",
       "      <td>Supernatural,Drama,Romance,School</td>\n",
       "      <td>PG-13</td>\n",
       "      <td>9.19</td>\n",
       "      <td>454969</td>\n",
       "      <td>705186</td>\n",
       "      <td>33936</td>\n",
       "    </tr>\n",
       "    <tr>\n",
       "      <th>2</th>\n",
       "      <td>Gintama°</td>\n",
       "      <td>TV</td>\n",
       "      <td>51</td>\n",
       "      <td>Finished Airing</td>\n",
       "      <td>4/8/2015</td>\n",
       "      <td>3/30/2016</td>\n",
       "      <td>Spring</td>\n",
       "      <td>Bandai Namco Pictures</td>\n",
       "      <td>Manga</td>\n",
       "      <td>Action,Comedy,Historical,Parody,Samurai,Sci-Fi...</td>\n",
       "      <td>R</td>\n",
       "      <td>9.16</td>\n",
       "      <td>70279</td>\n",
       "      <td>194359</td>\n",
       "      <td>5597</td>\n",
       "    </tr>\n",
       "    <tr>\n",
       "      <th>3</th>\n",
       "      <td>Steins;Gate 0</td>\n",
       "      <td>TV</td>\n",
       "      <td>23</td>\n",
       "      <td>Currently Airing</td>\n",
       "      <td>4/12/2018</td>\n",
       "      <td>-</td>\n",
       "      <td>Spring</td>\n",
       "      <td>White Fox</td>\n",
       "      <td>Visual novel</td>\n",
       "      <td>Sci-Fi,Thriller</td>\n",
       "      <td>PG-13</td>\n",
       "      <td>9.16</td>\n",
       "      <td>12609</td>\n",
       "      <td>186331</td>\n",
       "      <td>1117</td>\n",
       "    </tr>\n",
       "    <tr>\n",
       "      <th>4</th>\n",
       "      <td>Steins;Gate</td>\n",
       "      <td>TV</td>\n",
       "      <td>24</td>\n",
       "      <td>Finished Airing</td>\n",
       "      <td>4/6/2011</td>\n",
       "      <td>9/14/2011</td>\n",
       "      <td>Spring</td>\n",
       "      <td>White Fox</td>\n",
       "      <td>Visual novel</td>\n",
       "      <td>Sci-Fi,Thriller</td>\n",
       "      <td>PG-13</td>\n",
       "      <td>9.14</td>\n",
       "      <td>552791</td>\n",
       "      <td>990419</td>\n",
       "      <td>90365</td>\n",
       "    </tr>\n",
       "  </tbody>\n",
       "</table>\n",
       "</div>"
      ],
      "text/plain": [
       "                              Title   Type Episodes            Status  \\\n",
       "0  Fullmetal Alchemist: Brotherhood     TV       64   Finished Airing   \n",
       "1                    Kimi no Na wa.  Movie        1   Finished Airing   \n",
       "2                          Gintama°     TV       51   Finished Airing   \n",
       "3                     Steins;Gate 0     TV       23  Currently Airing   \n",
       "4                       Steins;Gate     TV       24   Finished Airing   \n",
       "\n",
       "  Start airing End airing Starting season                Studios  \\\n",
       "0     4/5/2009   7/4/2010          Spring                  Bones   \n",
       "1    8/26/2016          -               -       CoMix Wave Films   \n",
       "2     4/8/2015  3/30/2016          Spring  Bandai Namco Pictures   \n",
       "3    4/12/2018          -          Spring              White Fox   \n",
       "4     4/6/2011  9/14/2011          Spring              White Fox   \n",
       "\n",
       "        Sources                                             Genres Rating  \\\n",
       "0         Manga  Action,Military,Adventure,Comedy,Drama,Magic,F...      R   \n",
       "1   Light novel                  Supernatural,Drama,Romance,School  PG-13   \n",
       "2         Manga  Action,Comedy,Historical,Parody,Samurai,Sci-Fi...      R   \n",
       "3  Visual novel                                    Sci-Fi,Thriller  PG-13   \n",
       "4  Visual novel                                    Sci-Fi,Thriller  PG-13   \n",
       "\n",
       "   Score  Scored by  Members  Favorites  \n",
       "0   9.25     719706  1176368     105387  \n",
       "1   9.19     454969   705186      33936  \n",
       "2   9.16      70279   194359       5597  \n",
       "3   9.16      12609   186331       1117  \n",
       "4   9.14     552791   990419      90365  "
      ]
     },
     "execution_count": 2,
     "metadata": {},
     "output_type": "execute_result"
    }
   ],
   "source": [
    "anime_df = pd.read_csv(\"dataanime.csv\")\n",
    "anime_df.head()"
   ]
  },
  {
   "cell_type": "markdown",
   "metadata": {},
   "source": [
    "### Dữ liệu gồm có bao nhiêu dòng và bao nhiêu cột?"
   ]
  },
  {
   "cell_type": "markdown",
   "metadata": {},
   "source": [
    "Tính số dòng và số cột rồi lần lượt lưu vào 2 biến là `num_rows` và `num_cols`. "
   ]
  },
  {
   "cell_type": "code",
   "execution_count": 3,
   "metadata": {},
   "outputs": [
    {
     "name": "stdout",
     "output_type": "stream",
     "text": [
      "Dữ liệu này có 1562 dòng và 15 cột\n"
     ]
    }
   ],
   "source": [
    "num_rows, num_cols = anime_df.shape\n",
    "print(\"Dữ liệu này có {} dòng và {} cột\".format(num_rows, num_cols))"
   ]
  },
  {
   "cell_type": "markdown",
   "metadata": {},
   "source": [
    "### Mỗi dòng và mỗi cột có ý nghĩa gì?"
   ]
  },
  {
   "cell_type": "markdown",
   "metadata": {},
   "source": [
    "Dưới đây là phần mô tả các cột có trong file \"dataanime.csv\":\n",
    "- **Title**: Tên của bộ anime, title là duy nhất dùng để phân biệt.\n",
    "- **Type**: Hình thức trình chiếu (Truyền hình/TV, OVA, ONA,...). Xem thêm tại [đây](https://giaivadap.com/kt/ova-la-gi-ona-la-gi-oad-la-gi-the-loai-phim-gi)\n",
    "- **Episodes**: Số tập của bộ anime đó.\n",
    "- **Status**: Tình trạng phát sóng của bộ anime này (\"Finished Airing\" là đã kết thúc, \"Currently Airing\" là đang phát sóng).\n",
    "- **Start airing**: Thời gian (Date) bắt đầu phát sóng bộ anime này.\n",
    "- **End airing**: Thời gian (Date) kết thúc phát sóng bộ anime này.\n",
    "- **Starting season**: Anime được phân chia và xếp hạng theo mùa. \"Starting season\" cho biết anime thuộc mùa nào trong năm (Spring, Summer, Fall, Winter).\n",
    "- **Studios**: Xưởng phim sản xuất của những bộ anime. Một bộ anime thường chỉ được làm ở 1 Studio.\n",
    "- **Sources**: Những bộ anime được sản xuất có nguồn gốc từ đâu (manga, light novel, book, original...). Xem giải thích một số thuật ngữ tại [đây](https://chuuniotaku.com/light-novel-la-gi/)\n",
    "- **Genres**: Anime được chia thành rất nhiều thể loại khác nhau để phù hợp với nhu cầu của người xem. Và mỗi bộ thường là sự kết hợp của ít nhất 2 thể loại trở lên.\n",
    "- **Rating**: Phân loại theo [Hệ thống phân loại phim ảnh hiện hành của MPAA](https://vi.wikipedia.org/wiki/H%E1%BB%87_th%E1%BB%91ng_ph%C3%A2n_lo%E1%BA%A1i_phim_c%E1%BB%A7a_MPAA).\n",
    "- **Score**: Điểm đánh giá của bộ anime đó tính trên thang 10 điểm. \n",
    "- **Scored by**: Số lượt đánh giá của bộ anime đó.\n",
    "- **Members**: Số lượng thành viên của bộ anime đó.\n",
    "- **Favorites**: Số lượt yêu thích của bộ anime đó.\n",
    "\n",
    "Mỗi dòng trong `anime_df` ứng với thông tin của một bộ anime."
   ]
  },
  {
   "cell_type": "markdown",
   "metadata": {},
   "source": [
    "### Mỗi cột  có dtype là gì?"
   ]
  },
  {
   "cell_type": "markdown",
   "metadata": {},
   "source": [
    "Lấy `dtype` (kiểu dữ liệu của mỗi phần tử) của mỗi cột trong `anime_df` và lưu kết quả vào series `col_dtypes`; series này có index là tên cột. "
   ]
  },
  {
   "cell_type": "code",
   "execution_count": 4,
   "metadata": {},
   "outputs": [
    {
     "data": {
      "text/plain": [
       "Title               object\n",
       "Type                object\n",
       "Episodes            object\n",
       "Status              object\n",
       "Start airing        object\n",
       "End airing          object\n",
       "Starting season     object\n",
       "Studios             object\n",
       "Sources             object\n",
       "Genres              object\n",
       "Rating              object\n",
       "Score              float64\n",
       "Scored by            int64\n",
       "Members              int64\n",
       "Favorites            int64\n",
       "dtype: object"
      ]
     },
     "execution_count": 4,
     "metadata": {},
     "output_type": "execute_result"
    }
   ],
   "source": [
    "col_dtypes = anime_df.dtypes\n",
    "col_dtypes"
   ]
  },
  {
   "cell_type": "markdown",
   "metadata": {},
   "source": [
    "**<font color=red>Vấn đề:</font>**\n",
    "- Cột \"Start airing\" và \"End airing\" đang có kiểu dữ liệu là `object`. Do 2 cột này là 2 mốc thời gian bắt đầu và kết thúc nên để có thể khám phá thêm về 2 cột này, ta sẽ thực hiện bước tiền xử lý là chuyển sang dạng `datetime`.\n",
    "- Cột \"Episodes\" cũng đang có kiểu dữ liệu là object. Tuy nhiên, cột này thể hiện số tập phim nên phải là số nguyên. Để có thể tiếp tục khám phá thêm về cột này, ta sẽ thực hiện bước tiền xử lý là chuyển sang dạng `int`."
   ]
  },
  {
   "cell_type": "markdown",
   "metadata": {},
   "source": [
    "---"
   ]
  },
  {
   "cell_type": "markdown",
   "metadata": {},
   "source": [
    "## Tiền xử lý"
   ]
  },
  {
   "cell_type": "markdown",
   "metadata": {},
   "source": [
    "### Đổi tên cột \"Rating\""
   ]
  },
  {
   "cell_type": "markdown",
   "metadata": {},
   "source": [
    "Cột \"Rating\" dễ bị nhầm lẫn với xếp hạng (ta đã có cột \"Score\" để xếp hạng). Trong khi cột này chứa các giá trị để phân loại phim theo độ tuổi, ta sẽ đổi tên lại thành \"Classification\"."
   ]
  },
  {
   "cell_type": "code",
   "execution_count": 5,
   "metadata": {},
   "outputs": [
    {
     "data": {
      "text/html": [
       "<div>\n",
       "<style scoped>\n",
       "    .dataframe tbody tr th:only-of-type {\n",
       "        vertical-align: middle;\n",
       "    }\n",
       "\n",
       "    .dataframe tbody tr th {\n",
       "        vertical-align: top;\n",
       "    }\n",
       "\n",
       "    .dataframe thead th {\n",
       "        text-align: right;\n",
       "    }\n",
       "</style>\n",
       "<table border=\"1\" class=\"dataframe\">\n",
       "  <thead>\n",
       "    <tr style=\"text-align: right;\">\n",
       "      <th></th>\n",
       "      <th>Title</th>\n",
       "      <th>Type</th>\n",
       "      <th>Episodes</th>\n",
       "      <th>Status</th>\n",
       "      <th>Start airing</th>\n",
       "      <th>End airing</th>\n",
       "      <th>Starting season</th>\n",
       "      <th>Studios</th>\n",
       "      <th>Sources</th>\n",
       "      <th>Genres</th>\n",
       "      <th>Classification</th>\n",
       "      <th>Score</th>\n",
       "      <th>Scored by</th>\n",
       "      <th>Members</th>\n",
       "      <th>Favorites</th>\n",
       "    </tr>\n",
       "  </thead>\n",
       "  <tbody>\n",
       "    <tr>\n",
       "      <th>0</th>\n",
       "      <td>Fullmetal Alchemist: Brotherhood</td>\n",
       "      <td>TV</td>\n",
       "      <td>64</td>\n",
       "      <td>Finished Airing</td>\n",
       "      <td>4/5/2009</td>\n",
       "      <td>7/4/2010</td>\n",
       "      <td>Spring</td>\n",
       "      <td>Bones</td>\n",
       "      <td>Manga</td>\n",
       "      <td>Action,Military,Adventure,Comedy,Drama,Magic,F...</td>\n",
       "      <td>R</td>\n",
       "      <td>9.25</td>\n",
       "      <td>719706</td>\n",
       "      <td>1176368</td>\n",
       "      <td>105387</td>\n",
       "    </tr>\n",
       "    <tr>\n",
       "      <th>1</th>\n",
       "      <td>Kimi no Na wa.</td>\n",
       "      <td>Movie</td>\n",
       "      <td>1</td>\n",
       "      <td>Finished Airing</td>\n",
       "      <td>8/26/2016</td>\n",
       "      <td>-</td>\n",
       "      <td>-</td>\n",
       "      <td>CoMix Wave Films</td>\n",
       "      <td>Light novel</td>\n",
       "      <td>Supernatural,Drama,Romance,School</td>\n",
       "      <td>PG-13</td>\n",
       "      <td>9.19</td>\n",
       "      <td>454969</td>\n",
       "      <td>705186</td>\n",
       "      <td>33936</td>\n",
       "    </tr>\n",
       "    <tr>\n",
       "      <th>2</th>\n",
       "      <td>Gintama°</td>\n",
       "      <td>TV</td>\n",
       "      <td>51</td>\n",
       "      <td>Finished Airing</td>\n",
       "      <td>4/8/2015</td>\n",
       "      <td>3/30/2016</td>\n",
       "      <td>Spring</td>\n",
       "      <td>Bandai Namco Pictures</td>\n",
       "      <td>Manga</td>\n",
       "      <td>Action,Comedy,Historical,Parody,Samurai,Sci-Fi...</td>\n",
       "      <td>R</td>\n",
       "      <td>9.16</td>\n",
       "      <td>70279</td>\n",
       "      <td>194359</td>\n",
       "      <td>5597</td>\n",
       "    </tr>\n",
       "    <tr>\n",
       "      <th>3</th>\n",
       "      <td>Steins;Gate 0</td>\n",
       "      <td>TV</td>\n",
       "      <td>23</td>\n",
       "      <td>Currently Airing</td>\n",
       "      <td>4/12/2018</td>\n",
       "      <td>-</td>\n",
       "      <td>Spring</td>\n",
       "      <td>White Fox</td>\n",
       "      <td>Visual novel</td>\n",
       "      <td>Sci-Fi,Thriller</td>\n",
       "      <td>PG-13</td>\n",
       "      <td>9.16</td>\n",
       "      <td>12609</td>\n",
       "      <td>186331</td>\n",
       "      <td>1117</td>\n",
       "    </tr>\n",
       "    <tr>\n",
       "      <th>4</th>\n",
       "      <td>Steins;Gate</td>\n",
       "      <td>TV</td>\n",
       "      <td>24</td>\n",
       "      <td>Finished Airing</td>\n",
       "      <td>4/6/2011</td>\n",
       "      <td>9/14/2011</td>\n",
       "      <td>Spring</td>\n",
       "      <td>White Fox</td>\n",
       "      <td>Visual novel</td>\n",
       "      <td>Sci-Fi,Thriller</td>\n",
       "      <td>PG-13</td>\n",
       "      <td>9.14</td>\n",
       "      <td>552791</td>\n",
       "      <td>990419</td>\n",
       "      <td>90365</td>\n",
       "    </tr>\n",
       "  </tbody>\n",
       "</table>\n",
       "</div>"
      ],
      "text/plain": [
       "                              Title   Type Episodes            Status  \\\n",
       "0  Fullmetal Alchemist: Brotherhood     TV       64   Finished Airing   \n",
       "1                    Kimi no Na wa.  Movie        1   Finished Airing   \n",
       "2                          Gintama°     TV       51   Finished Airing   \n",
       "3                     Steins;Gate 0     TV       23  Currently Airing   \n",
       "4                       Steins;Gate     TV       24   Finished Airing   \n",
       "\n",
       "  Start airing End airing Starting season                Studios  \\\n",
       "0     4/5/2009   7/4/2010          Spring                  Bones   \n",
       "1    8/26/2016          -               -       CoMix Wave Films   \n",
       "2     4/8/2015  3/30/2016          Spring  Bandai Namco Pictures   \n",
       "3    4/12/2018          -          Spring              White Fox   \n",
       "4     4/6/2011  9/14/2011          Spring              White Fox   \n",
       "\n",
       "        Sources                                             Genres  \\\n",
       "0         Manga  Action,Military,Adventure,Comedy,Drama,Magic,F...   \n",
       "1   Light novel                  Supernatural,Drama,Romance,School   \n",
       "2         Manga  Action,Comedy,Historical,Parody,Samurai,Sci-Fi...   \n",
       "3  Visual novel                                    Sci-Fi,Thriller   \n",
       "4  Visual novel                                    Sci-Fi,Thriller   \n",
       "\n",
       "  Classification  Score  Scored by  Members  Favorites  \n",
       "0              R   9.25     719706  1176368     105387  \n",
       "1          PG-13   9.19     454969   705186      33936  \n",
       "2              R   9.16      70279   194359       5597  \n",
       "3          PG-13   9.16      12609   186331       1117  \n",
       "4          PG-13   9.14     552791   990419      90365  "
      ]
     },
     "execution_count": 5,
     "metadata": {},
     "output_type": "execute_result"
    }
   ],
   "source": [
    "anime_df = anime_df.rename(columns={'Rating':'Classification'})\n",
    "anime_df.head()"
   ]
  },
  {
   "cell_type": "markdown",
   "metadata": {},
   "source": [
    "### Thay thế các giá trị \"-\" thành NaN"
   ]
  },
  {
   "cell_type": "markdown",
   "metadata": {},
   "source": [
    "Hầu hết các cột có dtype là object *(Start airing, End airing, Starting season, Sources, Studios,...)* đều chứa rất nhiều giá trị \"-\" gây khó khăn và xảy ra lỗi cho việc chuyển đổi và tính toán sau này. Do đó ta sẽ thực hiện replace các giá trị \"-\" thành NaN."
   ]
  },
  {
   "cell_type": "code",
   "execution_count": 6,
   "metadata": {},
   "outputs": [
    {
     "name": "stdout",
     "output_type": "stream",
     "text": [
      "<class 'pandas.core.frame.DataFrame'>\n",
      "RangeIndex: 1562 entries, 0 to 1561\n",
      "Data columns (total 15 columns):\n",
      " #   Column           Non-Null Count  Dtype  \n",
      "---  ------           --------------  -----  \n",
      " 0   Title            1562 non-null   object \n",
      " 1   Type             1562 non-null   object \n",
      " 2   Episodes         1551 non-null   object \n",
      " 3   Status           1562 non-null   object \n",
      " 4   Start airing     1548 non-null   object \n",
      " 5   End airing       978 non-null    object \n",
      " 6   Starting season  821 non-null    object \n",
      " 7   Studios          1519 non-null   object \n",
      " 8   Sources          1525 non-null   object \n",
      " 9   Genres           1562 non-null   object \n",
      " 10  Classification   1562 non-null   object \n",
      " 11  Score            1562 non-null   float64\n",
      " 12  Scored by        1562 non-null   int64  \n",
      " 13  Members          1562 non-null   int64  \n",
      " 14  Favorites        1562 non-null   int64  \n",
      "dtypes: float64(1), int64(3), object(11)\n",
      "memory usage: 183.2+ KB\n"
     ]
    }
   ],
   "source": [
    "anime_df = anime_df.replace(\"-\", np.nan)\n",
    "anime_df.info()"
   ]
  },
  {
   "cell_type": "markdown",
   "metadata": {},
   "source": [
    "### Chuyển dtype của cột \"Start airing\" và \"End airing\" sang datetime"
   ]
  },
  {
   "cell_type": "markdown",
   "metadata": {},
   "source": [
    "Thực hiện chuyển `dtype` của 2 cột \"Start airing\" và \"End airing\" sang kiểu dữ liệu thời gian (sau khi làm xong thì 2 cột này trong `anime_df` sẽ thay đổi thành `datetime64[ns]`). Ở đây ta sẽ dùng câu lệnh `pd.to_datetime` và để Pandas tự đoán format vì dữ liệu không nhiều và có chứa NaN. Giá trị NaN này sẽ được chuyển thành NaT trong `datetime64[ns]`."
   ]
  },
  {
   "cell_type": "code",
   "execution_count": 7,
   "metadata": {},
   "outputs": [
    {
     "name": "stdout",
     "output_type": "stream",
     "text": [
      "Start airing    datetime64[ns]\n",
      "End airing      datetime64[ns]\n",
      "dtype: object\n",
      "\n",
      "Data type of cell 382 after being transformed: 1996-04-05 00:00:00\n"
     ]
    }
   ],
   "source": [
    "# Chuyển đổi 2 cột \"Start airing\" và \"End airing\" sang định dạng datetime\n",
    "anime_df[\"Start airing\"] = pd.to_datetime(anime_df[\"Start airing\"])\n",
    "anime_df[\"End airing\"] = pd.to_datetime(anime_df[\"End airing\"])\n",
    "# Kiểm tra dtypes của 2 cột sau khi chuyển đổi\n",
    "print(anime_df[[\"Start airing\",\"End airing\"]].dtypes)\n",
    "# Test ô 382 ban đầu chứa giá trị NaN:\n",
    "print(\"\\nData type of cell 382 after being transformed:\", anime_df[\"Start airing\"].iloc[382])"
   ]
  },
  {
   "cell_type": "markdown",
   "metadata": {},
   "source": [
    "### Chuyển dtype của cột \"Episodes\" sang float"
   ]
  },
  {
   "cell_type": "markdown",
   "metadata": {},
   "source": [
    "Chuyển đổi `dtype` của cột \"Episodes\" thành float khá đơn giản bằng `astype(float)`."
   ]
  },
  {
   "cell_type": "code",
   "execution_count": 8,
   "metadata": {},
   "outputs": [
    {
     "data": {
      "text/plain": [
       "dtype('float64')"
      ]
     },
     "execution_count": 8,
     "metadata": {},
     "output_type": "execute_result"
    }
   ],
   "source": [
    "anime_df[\"Episodes\"] = anime_df[\"Episodes\"].astype(float)\n",
    "anime_df[\"Episodes\"].dtype"
   ]
  },
  {
   "cell_type": "markdown",
   "metadata": {},
   "source": [
    "---"
   ]
  },
  {
   "cell_type": "markdown",
   "metadata": {},
   "source": [
    "## Quay lại bước khám phá dữ liệu"
   ]
  },
  {
   "cell_type": "markdown",
   "metadata": {},
   "source": [
    "### Mỗi cột có bao nhiêu giá trị thiếu?"
   ]
  },
  {
   "cell_type": "markdown",
   "metadata": {},
   "source": [
    "Ta tính số lượng giá trị thiếu của mỗi cột và lưu kết quả vào series `col_num_nans`, trong đó index là tên cột."
   ]
  },
  {
   "cell_type": "code",
   "execution_count": 9,
   "metadata": {},
   "outputs": [
    {
     "data": {
      "text/plain": [
       "Title                0\n",
       "Type                 0\n",
       "Episodes            11\n",
       "Status               0\n",
       "Start airing        14\n",
       "End airing         584\n",
       "Starting season    741\n",
       "Studios             43\n",
       "Sources             37\n",
       "Genres               0\n",
       "Classification       0\n",
       "Score                0\n",
       "Scored by            0\n",
       "Members              0\n",
       "Favorites            0\n",
       "dtype: int64"
      ]
     },
     "execution_count": 9,
     "metadata": {},
     "output_type": "execute_result"
    }
   ],
   "source": [
    "col_num_nans = anime_df.isna().sum()\n",
    "col_num_nans"
   ]
  },
  {
   "cell_type": "markdown",
   "metadata": {},
   "source": [
    "Ta thấy 2 cột \"End airing\" và \"Starting season\" thiếu khá nhiều dữ liệu. Vấn đề này có thể giải thích như sau:\n",
    "- End airing là thời gian ngừng phát sóng bộ anime đó; với những bộ anime trên 100 tập thì thời gian phát sóng vẫn còn đang diễn ra tính thời điểm dữ liệu được thu thập. Bên cạnh đó có những bộ anime chiếu rạp (thể loại Movie và chỉ có 1 tập) thì được chiếu khắp thế giới nên không xác định được khi nào thì nó kết thúc. Vì trong phân tích ta sẽ chỉ tập trung vào cột \"Start airing\" (cột này có ý nghĩa hơn) nên ta sẽ drop cột \"End airing\".\n",
    "- Starting season là mùa phát sóng (anime sẽ được chia theo mùa Xuân, Hạ, Thu, Đông, xem thêm tại [đây](https://kenhanime.net/cung-tim-hieu-mua-anime-va-season-anime-kien-thuc-co-ban-ma-khong-phai-ai-cung-biet/)). Đây là cột dữ liệu thiếu đến nhiều nhất (742). Nguyên nhân có lẽ là trong quá trình thu thập dữ liệu hoặc bị thiếu trên chính trang chủ được dùng để lấy dữ liệu. Tuy nhiên, ta có thể điền các giá trị missing từ tháng của cột \"Start airing\"."
   ]
  },
  {
   "cell_type": "markdown",
   "metadata": {},
   "source": [
    "#### Xóa cột \"End airing\""
   ]
  },
  {
   "cell_type": "code",
   "execution_count": 10,
   "metadata": {},
   "outputs": [],
   "source": [
    "anime_df=anime_df.drop(\"End airing\", axis=1)"
   ]
  },
  {
   "cell_type": "markdown",
   "metadata": {},
   "source": [
    "### Các cột dạng numeric và datetime có miền giá trị như thế nào?"
   ]
  },
  {
   "cell_type": "code",
   "execution_count": 11,
   "metadata": {},
   "outputs": [
    {
     "name": "stdout",
     "output_type": "stream",
     "text": [
      "<class 'pandas.core.frame.DataFrame'>\n",
      "RangeIndex: 1562 entries, 0 to 1561\n",
      "Data columns (total 14 columns):\n",
      " #   Column           Non-Null Count  Dtype         \n",
      "---  ------           --------------  -----         \n",
      " 0   Title            1562 non-null   object        \n",
      " 1   Type             1562 non-null   object        \n",
      " 2   Episodes         1551 non-null   float64       \n",
      " 3   Status           1562 non-null   object        \n",
      " 4   Start airing     1548 non-null   datetime64[ns]\n",
      " 5   Starting season  821 non-null    object        \n",
      " 6   Studios          1519 non-null   object        \n",
      " 7   Sources          1525 non-null   object        \n",
      " 8   Genres           1562 non-null   object        \n",
      " 9   Classification   1562 non-null   object        \n",
      " 10  Score            1562 non-null   float64       \n",
      " 11  Scored by        1562 non-null   int64         \n",
      " 12  Members          1562 non-null   int64         \n",
      " 13  Favorites        1562 non-null   int64         \n",
      "dtypes: datetime64[ns](1), float64(2), int64(3), object(8)\n",
      "memory usage: 171.0+ KB\n"
     ]
    }
   ],
   "source": [
    "anime_df.info()"
   ]
  },
  {
   "cell_type": "markdown",
   "metadata": {},
   "source": [
    "Ta có 6 cột có dạng numeric hoặc datetime: \"Episodes\", \"Start airing\", \"Score\", \"Score by\", \"Members\", \"Favorites\". Thực hiện tính miền giá trị (min, max) của 6 cột này và lưu kết quả vào dataframe `col_ranges_df`. Dataframe này có 2 dòng là \"min\", \"max\"; có 6 cột là \"Episodes\", \"Start airing\", \"Score\", \"Score by\", \"Members\", \"Favorites\"."
   ]
  },
  {
   "cell_type": "code",
   "execution_count": 12,
   "metadata": {},
   "outputs": [
    {
     "data": {
      "text/html": [
       "<div>\n",
       "<style scoped>\n",
       "    .dataframe tbody tr th:only-of-type {\n",
       "        vertical-align: middle;\n",
       "    }\n",
       "\n",
       "    .dataframe tbody tr th {\n",
       "        vertical-align: top;\n",
       "    }\n",
       "\n",
       "    .dataframe thead th {\n",
       "        text-align: right;\n",
       "    }\n",
       "</style>\n",
       "<table border=\"1\" class=\"dataframe\">\n",
       "  <thead>\n",
       "    <tr style=\"text-align: right;\">\n",
       "      <th></th>\n",
       "      <th>Episodes</th>\n",
       "      <th>Start airing</th>\n",
       "      <th>Score</th>\n",
       "      <th>Scored by</th>\n",
       "      <th>Members</th>\n",
       "      <th>Favorites</th>\n",
       "    </tr>\n",
       "  </thead>\n",
       "  <tbody>\n",
       "    <tr>\n",
       "      <th>min</th>\n",
       "      <td>1.0</td>\n",
       "      <td>1970-04-01</td>\n",
       "      <td>7.48</td>\n",
       "      <td>144</td>\n",
       "      <td>781</td>\n",
       "      <td>1</td>\n",
       "    </tr>\n",
       "    <tr>\n",
       "      <th>max</th>\n",
       "      <td>1787.0</td>\n",
       "      <td>2018-04-13</td>\n",
       "      <td>9.25</td>\n",
       "      <td>993775</td>\n",
       "      <td>1432871</td>\n",
       "      <td>105387</td>\n",
       "    </tr>\n",
       "  </tbody>\n",
       "</table>\n",
       "</div>"
      ],
      "text/plain": [
       "     Episodes Start airing  Score  Scored by  Members  Favorites\n",
       "min       1.0   1970-04-01   7.48        144      781          1\n",
       "max    1787.0   2018-04-13   9.25     993775  1432871     105387"
      ]
     },
     "execution_count": 12,
     "metadata": {},
     "output_type": "execute_result"
    }
   ],
   "source": [
    "num_col_names = anime_df.dtypes.index[anime_df.dtypes != \"object\"]\n",
    "col_ranges_df = anime_df.loc[:, num_col_names].agg([\"min\", \"max\"])\n",
    "col_ranges_df"
   ]
  },
  {
   "cell_type": "markdown",
   "metadata": {},
   "source": [
    "### Các cột dạng categorical có các giá trị nào?"
   ]
  },
  {
   "cell_type": "code",
   "execution_count": 13,
   "metadata": {},
   "outputs": [
    {
     "name": "stdout",
     "output_type": "stream",
     "text": [
      "<class 'pandas.core.frame.DataFrame'>\n",
      "RangeIndex: 1562 entries, 0 to 1561\n",
      "Data columns (total 14 columns):\n",
      " #   Column           Non-Null Count  Dtype         \n",
      "---  ------           --------------  -----         \n",
      " 0   Title            1562 non-null   object        \n",
      " 1   Type             1562 non-null   object        \n",
      " 2   Episodes         1551 non-null   float64       \n",
      " 3   Status           1562 non-null   object        \n",
      " 4   Start airing     1548 non-null   datetime64[ns]\n",
      " 5   Starting season  821 non-null    object        \n",
      " 6   Studios          1519 non-null   object        \n",
      " 7   Sources          1525 non-null   object        \n",
      " 8   Genres           1562 non-null   object        \n",
      " 9   Classification   1562 non-null   object        \n",
      " 10  Score            1562 non-null   float64       \n",
      " 11  Scored by        1562 non-null   int64         \n",
      " 12  Members          1562 non-null   int64         \n",
      " 13  Favorites        1562 non-null   int64         \n",
      "dtypes: datetime64[ns](1), float64(2), int64(3), object(8)\n",
      "memory usage: 171.0+ KB\n"
     ]
    }
   ],
   "source": [
    "anime_df.info()"
   ]
  },
  {
   "cell_type": "markdown",
   "metadata": {},
   "source": [
    "`anime_df` có 7 cột dạng categorical là \"Type\", \"Status\", \"Starting season\", \"Studios\", \"Sources\", \"Genres\", \"Classification\". Tuy nhiên, ta sẽ không xét cột \"Status\" vì nó chỉ có 2 trạng thái là \"Finished Airing\" và \"Currently Airing\". 6 cột còn lại ta tính \"range\" của mỗi cột này: số lượng các giá trị khác nhau (không tính NaN), và list gồm 3 giá trị khác nhau đầu tiên sau khi đã sort tăng dần tất cả các giá trị khác nhau. Kết quả lưu vào dataframe `cat_col_ranges_df`. Dataframe này có 2 dòng là \"num_unique_values\", \"three_first_values\"; và có 6 cột là \"Type\", \"Starting season\", \"Studios\", \"Sources\", \"Genres\", \"Classification\"."
   ]
  },
  {
   "cell_type": "code",
   "execution_count": 14,
   "metadata": {
    "scrolled": true
   },
   "outputs": [
    {
     "data": {
      "text/html": [
       "<div>\n",
       "<style scoped>\n",
       "    .dataframe tbody tr th:only-of-type {\n",
       "        vertical-align: middle;\n",
       "    }\n",
       "\n",
       "    .dataframe tbody tr th {\n",
       "        vertical-align: top;\n",
       "    }\n",
       "\n",
       "    .dataframe thead th {\n",
       "        text-align: right;\n",
       "    }\n",
       "</style>\n",
       "<table border=\"1\" class=\"dataframe\">\n",
       "  <thead>\n",
       "    <tr style=\"text-align: right;\">\n",
       "      <th></th>\n",
       "      <th>Starting season</th>\n",
       "      <th>Type</th>\n",
       "      <th>Sources</th>\n",
       "      <th>Studios</th>\n",
       "      <th>Genres</th>\n",
       "      <th>Classification</th>\n",
       "    </tr>\n",
       "  </thead>\n",
       "  <tbody>\n",
       "    <tr>\n",
       "      <th>num_unique_values</th>\n",
       "      <td>4</td>\n",
       "      <td>6</td>\n",
       "      <td>13</td>\n",
       "      <td>199</td>\n",
       "      <td>1002</td>\n",
       "      <td>4</td>\n",
       "    </tr>\n",
       "    <tr>\n",
       "      <th>three_first_values</th>\n",
       "      <td>[Fall, Spring, Summer]</td>\n",
       "      <td>[Movie, Music, ONA]</td>\n",
       "      <td>[4-koma manga, Book, Card game]</td>\n",
       "      <td>[8bit, A-1 Pictures, A-1 Pictures,Bridge]</td>\n",
       "      <td>[Action, Action,Adventure, Action,Adventure,Co...</td>\n",
       "      <td>[G, PG, PG-13]</td>\n",
       "    </tr>\n",
       "  </tbody>\n",
       "</table>\n",
       "</div>"
      ],
      "text/plain": [
       "                           Starting season                 Type  \\\n",
       "num_unique_values                        4                    6   \n",
       "three_first_values  [Fall, Spring, Summer]  [Movie, Music, ONA]   \n",
       "\n",
       "                                            Sources  \\\n",
       "num_unique_values                                13   \n",
       "three_first_values  [4-koma manga, Book, Card game]   \n",
       "\n",
       "                                                      Studios  \\\n",
       "num_unique_values                                         199   \n",
       "three_first_values  [8bit, A-1 Pictures, A-1 Pictures,Bridge]   \n",
       "\n",
       "                                                               Genres  \\\n",
       "num_unique_values                                                1002   \n",
       "three_first_values  [Action, Action,Adventure, Action,Adventure,Co...   \n",
       "\n",
       "                    Classification  \n",
       "num_unique_values                4  \n",
       "three_first_values  [G, PG, PG-13]  "
      ]
     },
     "execution_count": 14,
     "metadata": {},
     "output_type": "execute_result"
    }
   ],
   "source": [
    "cat_col_names = set(anime_df.dtypes.index[anime_df.dtypes == \"object\"]) - {\"Title\",\"Status\"}\n",
    "num_unique_values = anime_df.nunique()\n",
    "three_first_values = anime_df[cat_col_names].apply(lambda x: list(x.sort_values().unique())[:3])\n",
    "cat_col_ranges_df = pd.DataFrame(columns=cat_col_names)\n",
    "cat_col_ranges_df.loc[\"num_unique_values\"]=num_unique_values\n",
    "cat_col_ranges_df.loc[\"three_first_values\"]=three_first_values\n",
    "cat_col_ranges_df"
   ]
  },
  {
   "cell_type": "markdown",
   "metadata": {},
   "source": [
    "---"
   ]
  },
  {
   "cell_type": "markdown",
   "metadata": {},
   "source": [
    "## Đưa ra các câu hỏi cần trả lời"
   ]
  },
  {
   "cell_type": "markdown",
   "metadata": {},
   "source": [
    "Dưới đây là một số câu hỏi có thể trả lời bằng dữ liệu:\n",
    "1. Những bộ anime nào đáng xem nhất theo mỗi phân loại (Classification)?\n",
    "2. Xét theo năm, mùa nào có nhiều sản phẩm với số lượt yêu thích (Favorites) trung bình cao nhất?\n",
    "3. Số lượng anime được sản xuất theo mỗi thể loại (Genres) là bao nhiêu?\n",
    "4. Trong 10 năm gần đây, 3 nguồn (Sources) chất lượng nhất dùng để chuyển thể sang anime có sự thay đổi như thế nào?"
   ]
  },
  {
   "cell_type": "markdown",
   "metadata": {},
   "source": [
    "---"
   ]
  },
  {
   "cell_type": "markdown",
   "metadata": {},
   "source": [
    "## Tiền xử lý"
   ]
  },
  {
   "cell_type": "markdown",
   "metadata": {},
   "source": [
    "### Điền dữ liệu bị thiếu của cột \"Start season\""
   ]
  },
  {
   "cell_type": "markdown",
   "metadata": {},
   "source": [
    "Như đã nêu ở bước khám phá dữ liệu, các dữ liệu thiếu của cột \"Starting season\" sẽ được suy ra từ cột \"Start airing\". Sau khi nội suy, số giá trị thiếu của cột \"Starting season\" sẽ ngang bằng với số giá trị thiếu của cột \"Start airing\"."
   ]
  },
  {
   "cell_type": "code",
   "execution_count": 15,
   "metadata": {
    "scrolled": true
   },
   "outputs": [
    {
     "data": {
      "text/plain": [
       "Title               0\n",
       "Type                0\n",
       "Episodes           11\n",
       "Status              0\n",
       "Start airing       14\n",
       "Starting season    14\n",
       "Studios            43\n",
       "Sources            37\n",
       "Genres              0\n",
       "Classification      0\n",
       "Score               0\n",
       "Scored by           0\n",
       "Members             0\n",
       "Favorites           0\n",
       "dtype: int64"
      ]
     },
     "execution_count": 15,
     "metadata": {},
     "output_type": "execute_result"
    }
   ],
   "source": [
    "idx=anime_df[anime_df[\"Starting season\"].isna()]\n",
    "def season(x):\n",
    "    if 1<= x <=3: return \"Winter\"\n",
    "    if 4<= x <=6: return \"Spring\"\n",
    "    if 7<= x <=9: return \"Summer\"\n",
    "    if 10<= x <=12: return \"Fall\"\n",
    "for i in idx.index:\n",
    "    if anime_df[\"Start airing\"][i] == \"NaT\":\n",
    "        break\n",
    "    else:            \n",
    "        anime_df.loc[i,\"Starting season\"]=season(anime_df.loc[i,\"Start airing\"].month)\n",
    "anime_df.isna().sum()"
   ]
  },
  {
   "cell_type": "markdown",
   "metadata": {},
   "source": [
    "### Thêm cột \"Year\" vào dataframe"
   ]
  },
  {
   "cell_type": "markdown",
   "metadata": {},
   "source": [
    "Câu hỏi thứ 4 ở trên cần sử dụng đến năm phát sóng của bộ anime. Vì vậy, ta sẽ thêm cột \"Year\" vào `anime_df`, tất nhiên là dữ liệu của cột này sẽ được lấy từ năm của cột \"Start airing\"."
   ]
  },
  {
   "cell_type": "code",
   "execution_count": 16,
   "metadata": {},
   "outputs": [
    {
     "data": {
      "text/html": [
       "<div>\n",
       "<style scoped>\n",
       "    .dataframe tbody tr th:only-of-type {\n",
       "        vertical-align: middle;\n",
       "    }\n",
       "\n",
       "    .dataframe tbody tr th {\n",
       "        vertical-align: top;\n",
       "    }\n",
       "\n",
       "    .dataframe thead th {\n",
       "        text-align: right;\n",
       "    }\n",
       "</style>\n",
       "<table border=\"1\" class=\"dataframe\">\n",
       "  <thead>\n",
       "    <tr style=\"text-align: right;\">\n",
       "      <th></th>\n",
       "      <th>Title</th>\n",
       "      <th>Type</th>\n",
       "      <th>Episodes</th>\n",
       "      <th>Status</th>\n",
       "      <th>Start airing</th>\n",
       "      <th>Starting season</th>\n",
       "      <th>Studios</th>\n",
       "      <th>Sources</th>\n",
       "      <th>Genres</th>\n",
       "      <th>Classification</th>\n",
       "      <th>Score</th>\n",
       "      <th>Scored by</th>\n",
       "      <th>Members</th>\n",
       "      <th>Favorites</th>\n",
       "      <th>Year</th>\n",
       "    </tr>\n",
       "  </thead>\n",
       "  <tbody>\n",
       "    <tr>\n",
       "      <th>0</th>\n",
       "      <td>Fullmetal Alchemist: Brotherhood</td>\n",
       "      <td>TV</td>\n",
       "      <td>64.0</td>\n",
       "      <td>Finished Airing</td>\n",
       "      <td>2009-04-05</td>\n",
       "      <td>Spring</td>\n",
       "      <td>Bones</td>\n",
       "      <td>Manga</td>\n",
       "      <td>Action,Military,Adventure,Comedy,Drama,Magic,F...</td>\n",
       "      <td>R</td>\n",
       "      <td>9.25</td>\n",
       "      <td>719706</td>\n",
       "      <td>1176368</td>\n",
       "      <td>105387</td>\n",
       "      <td>2009.0</td>\n",
       "    </tr>\n",
       "    <tr>\n",
       "      <th>1</th>\n",
       "      <td>Kimi no Na wa.</td>\n",
       "      <td>Movie</td>\n",
       "      <td>1.0</td>\n",
       "      <td>Finished Airing</td>\n",
       "      <td>2016-08-26</td>\n",
       "      <td>Summer</td>\n",
       "      <td>CoMix Wave Films</td>\n",
       "      <td>Light novel</td>\n",
       "      <td>Supernatural,Drama,Romance,School</td>\n",
       "      <td>PG-13</td>\n",
       "      <td>9.19</td>\n",
       "      <td>454969</td>\n",
       "      <td>705186</td>\n",
       "      <td>33936</td>\n",
       "      <td>2016.0</td>\n",
       "    </tr>\n",
       "    <tr>\n",
       "      <th>2</th>\n",
       "      <td>Gintama°</td>\n",
       "      <td>TV</td>\n",
       "      <td>51.0</td>\n",
       "      <td>Finished Airing</td>\n",
       "      <td>2015-04-08</td>\n",
       "      <td>Spring</td>\n",
       "      <td>Bandai Namco Pictures</td>\n",
       "      <td>Manga</td>\n",
       "      <td>Action,Comedy,Historical,Parody,Samurai,Sci-Fi...</td>\n",
       "      <td>R</td>\n",
       "      <td>9.16</td>\n",
       "      <td>70279</td>\n",
       "      <td>194359</td>\n",
       "      <td>5597</td>\n",
       "      <td>2015.0</td>\n",
       "    </tr>\n",
       "    <tr>\n",
       "      <th>3</th>\n",
       "      <td>Steins;Gate 0</td>\n",
       "      <td>TV</td>\n",
       "      <td>23.0</td>\n",
       "      <td>Currently Airing</td>\n",
       "      <td>2018-04-12</td>\n",
       "      <td>Spring</td>\n",
       "      <td>White Fox</td>\n",
       "      <td>Visual novel</td>\n",
       "      <td>Sci-Fi,Thriller</td>\n",
       "      <td>PG-13</td>\n",
       "      <td>9.16</td>\n",
       "      <td>12609</td>\n",
       "      <td>186331</td>\n",
       "      <td>1117</td>\n",
       "      <td>2018.0</td>\n",
       "    </tr>\n",
       "    <tr>\n",
       "      <th>4</th>\n",
       "      <td>Steins;Gate</td>\n",
       "      <td>TV</td>\n",
       "      <td>24.0</td>\n",
       "      <td>Finished Airing</td>\n",
       "      <td>2011-04-06</td>\n",
       "      <td>Spring</td>\n",
       "      <td>White Fox</td>\n",
       "      <td>Visual novel</td>\n",
       "      <td>Sci-Fi,Thriller</td>\n",
       "      <td>PG-13</td>\n",
       "      <td>9.14</td>\n",
       "      <td>552791</td>\n",
       "      <td>990419</td>\n",
       "      <td>90365</td>\n",
       "      <td>2011.0</td>\n",
       "    </tr>\n",
       "  </tbody>\n",
       "</table>\n",
       "</div>"
      ],
      "text/plain": [
       "                              Title   Type  Episodes            Status  \\\n",
       "0  Fullmetal Alchemist: Brotherhood     TV      64.0   Finished Airing   \n",
       "1                    Kimi no Na wa.  Movie       1.0   Finished Airing   \n",
       "2                          Gintama°     TV      51.0   Finished Airing   \n",
       "3                     Steins;Gate 0     TV      23.0  Currently Airing   \n",
       "4                       Steins;Gate     TV      24.0   Finished Airing   \n",
       "\n",
       "  Start airing Starting season                Studios       Sources  \\\n",
       "0   2009-04-05          Spring                  Bones         Manga   \n",
       "1   2016-08-26          Summer       CoMix Wave Films   Light novel   \n",
       "2   2015-04-08          Spring  Bandai Namco Pictures         Manga   \n",
       "3   2018-04-12          Spring              White Fox  Visual novel   \n",
       "4   2011-04-06          Spring              White Fox  Visual novel   \n",
       "\n",
       "                                              Genres Classification  Score  \\\n",
       "0  Action,Military,Adventure,Comedy,Drama,Magic,F...              R   9.25   \n",
       "1                  Supernatural,Drama,Romance,School          PG-13   9.19   \n",
       "2  Action,Comedy,Historical,Parody,Samurai,Sci-Fi...              R   9.16   \n",
       "3                                    Sci-Fi,Thriller          PG-13   9.16   \n",
       "4                                    Sci-Fi,Thriller          PG-13   9.14   \n",
       "\n",
       "   Scored by  Members  Favorites    Year  \n",
       "0     719706  1176368     105387  2009.0  \n",
       "1     454969   705186      33936  2016.0  \n",
       "2      70279   194359       5597  2015.0  \n",
       "3      12609   186331       1117  2018.0  \n",
       "4     552791   990419      90365  2011.0  "
      ]
     },
     "execution_count": 16,
     "metadata": {},
     "output_type": "execute_result"
    }
   ],
   "source": [
    "anime_df[\"Year\"]=anime_df[\"Start airing\"].dt.year\n",
    "anime_df.head()"
   ]
  },
  {
   "cell_type": "markdown",
   "metadata": {},
   "source": [
    "---"
   ]
  },
  {
   "cell_type": "markdown",
   "metadata": {},
   "source": [
    "## Phân tích dữ liệu để trả lời cho các câu hỏi"
   ]
  },
  {
   "cell_type": "markdown",
   "metadata": {},
   "source": [
    "### Những bộ anime nào đáng xem nhất theo mỗi phân loại (Classification)?"
   ]
  },
  {
   "cell_type": "markdown",
   "metadata": {},
   "source": [
    "Để đánh giá bộ nào đáng xem, ta sẽ dựa vào tiêu chí \"Score\". Kết quả được lưu vào dataframe `BestAnimes`. DataFrame này có 3 cột là Classification (phân loại theo tuổi), Title (tên anime) và Score (Số điểm đánh giá); mỗi dòng là thông tin của 1 bộ anime đáng xem nhất theo phân lớp độ tuổi đó."
   ]
  },
  {
   "cell_type": "code",
   "execution_count": 17,
   "metadata": {},
   "outputs": [
    {
     "data": {
      "text/html": [
       "<div>\n",
       "<style scoped>\n",
       "    .dataframe tbody tr th:only-of-type {\n",
       "        vertical-align: middle;\n",
       "    }\n",
       "\n",
       "    .dataframe tbody tr th {\n",
       "        vertical-align: top;\n",
       "    }\n",
       "\n",
       "    .dataframe thead th {\n",
       "        text-align: right;\n",
       "    }\n",
       "</style>\n",
       "<table border=\"1\" class=\"dataframe\">\n",
       "  <thead>\n",
       "    <tr style=\"text-align: right;\">\n",
       "      <th></th>\n",
       "      <th>Classification</th>\n",
       "      <th>Title</th>\n",
       "      <th>Score</th>\n",
       "    </tr>\n",
       "  </thead>\n",
       "  <tbody>\n",
       "    <tr>\n",
       "      <th>0</th>\n",
       "      <td>R</td>\n",
       "      <td>Fullmetal Alchemist: Brotherhood</td>\n",
       "      <td>9.25</td>\n",
       "    </tr>\n",
       "    <tr>\n",
       "      <th>1</th>\n",
       "      <td>PG-13</td>\n",
       "      <td>Kimi no Na wa.</td>\n",
       "      <td>9.19</td>\n",
       "    </tr>\n",
       "    <tr>\n",
       "      <th>2</th>\n",
       "      <td>PG</td>\n",
       "      <td>Sen to Chihiro no Kamikakushi</td>\n",
       "      <td>8.92</td>\n",
       "    </tr>\n",
       "    <tr>\n",
       "      <th>3</th>\n",
       "      <td>G</td>\n",
       "      <td>Howl no Ugoku Shiro</td>\n",
       "      <td>8.73</td>\n",
       "    </tr>\n",
       "  </tbody>\n",
       "</table>\n",
       "</div>"
      ],
      "text/plain": [
       "  Classification                             Title  Score\n",
       "0              R  Fullmetal Alchemist: Brotherhood   9.25\n",
       "1          PG-13                    Kimi no Na wa.   9.19\n",
       "2             PG     Sen to Chihiro no Kamikakushi   8.92\n",
       "3              G               Howl no Ugoku Shiro   8.73"
      ]
     },
     "execution_count": 17,
     "metadata": {},
     "output_type": "execute_result"
    }
   ],
   "source": [
    "idx = anime_df.groupby(\"Classification\")[\"Score\"].idxmax()\n",
    "BestAnimes=anime_df[[\"Classification\",\"Title\",\"Score\"]].iloc[idx].sort_values(by ='Score', ascending=False)\n",
    "BestAnimes.reset_index(drop=True)"
   ]
  },
  {
   "cell_type": "markdown",
   "metadata": {},
   "source": [
    "**Trả lời câu hỏi:**"
   ]
  },
  {
   "cell_type": "markdown",
   "metadata": {},
   "source": [
    "Những bộ hay (nên xem) theo mỗi phân loại:\n",
    "- G (dành cho mọi lứa tuổi):               **Howl no Ugoku Shiro**\n",
    "- R (dưới 17 tuổi cần người lớn cho phép): **Fullmetal Alchemist: Brotherhood**\n",
    "- PG-13 (không phù hợp với trẻ dưới 13):   **Kimi no Na wa**\n",
    "- PG (không phù hợp với trẻ nhỏ):          **Sen to Chihiro no Kamikakushi**"
   ]
  },
  {
   "cell_type": "markdown",
   "metadata": {},
   "source": [
    "#### **Ý nghĩa:**"
   ]
  },
  {
   "cell_type": "markdown",
   "metadata": {},
   "source": [
    "Kết quả thu được giúp cho những người chưa xem anime bao giờ (muốn xem thử) cũng như những người đã xem (muốn xem thêm) tìm được những bộ đáng xem nhất và quan trọng hơn hết là các đề xuất này phù hợp với độ tuổi."
   ]
  },
  {
   "cell_type": "markdown",
   "metadata": {},
   "source": [
    "### 2. Xét theo năm, mùa nào có nhiều sản phẩm với số lượt yêu thích (Favorites) trung bình cao nhất?"
   ]
  },
  {
   "cell_type": "markdown",
   "metadata": {},
   "source": [
    "Tính số lượt yêu thích trung bình theo mùa và năm, sau đó lưu kết quả vào dataframe `high_mean_favorites_animes`. DataFrame này có 3 cột là Year (Năm), Starting season (mùa phát sóng) và mean_favorites (số lượt thích trung bình). Mỗi dòng là một xếp hạng của \"các mùa anime trong năm\" (xếp hạng 1,2,3,...) theo tiêu chí giảm dần lượt yêu thích trung bình."
   ]
  },
  {
   "cell_type": "code",
   "execution_count": 18,
   "metadata": {
    "scrolled": true
   },
   "outputs": [
    {
     "data": {
      "text/html": [
       "<div>\n",
       "<style scoped>\n",
       "    .dataframe tbody tr th:only-of-type {\n",
       "        vertical-align: middle;\n",
       "    }\n",
       "\n",
       "    .dataframe tbody tr th {\n",
       "        vertical-align: top;\n",
       "    }\n",
       "\n",
       "    .dataframe thead th {\n",
       "        text-align: right;\n",
       "    }\n",
       "</style>\n",
       "<table border=\"1\" class=\"dataframe\">\n",
       "  <thead>\n",
       "    <tr style=\"text-align: right;\">\n",
       "      <th></th>\n",
       "      <th>Year</th>\n",
       "      <th>Starting season</th>\n",
       "      <th>mean_favorites</th>\n",
       "    </tr>\n",
       "  </thead>\n",
       "  <tbody>\n",
       "    <tr>\n",
       "      <th>1</th>\n",
       "      <td>1989</td>\n",
       "      <td>Spring</td>\n",
       "      <td>10536.0</td>\n",
       "    </tr>\n",
       "    <tr>\n",
       "      <th>2</th>\n",
       "      <td>1998</td>\n",
       "      <td>Spring</td>\n",
       "      <td>10190.0</td>\n",
       "    </tr>\n",
       "    <tr>\n",
       "      <th>3</th>\n",
       "      <td>2006</td>\n",
       "      <td>Fall</td>\n",
       "      <td>9284.0</td>\n",
       "    </tr>\n",
       "    <tr>\n",
       "      <th>4</th>\n",
       "      <td>1986</td>\n",
       "      <td>Winter</td>\n",
       "      <td>8510.0</td>\n",
       "    </tr>\n",
       "    <tr>\n",
       "      <th>5</th>\n",
       "      <td>1999</td>\n",
       "      <td>Summer</td>\n",
       "      <td>7304.0</td>\n",
       "    </tr>\n",
       "    <tr>\n",
       "      <th>6</th>\n",
       "      <td>1995</td>\n",
       "      <td>Fall</td>\n",
       "      <td>6841.0</td>\n",
       "    </tr>\n",
       "    <tr>\n",
       "      <th>7</th>\n",
       "      <td>1992</td>\n",
       "      <td>Spring</td>\n",
       "      <td>6615.0</td>\n",
       "    </tr>\n",
       "    <tr>\n",
       "      <th>8</th>\n",
       "      <td>2011</td>\n",
       "      <td>Spring</td>\n",
       "      <td>6468.0</td>\n",
       "    </tr>\n",
       "    <tr>\n",
       "      <th>9</th>\n",
       "      <td>2013</td>\n",
       "      <td>Spring</td>\n",
       "      <td>5502.0</td>\n",
       "    </tr>\n",
       "    <tr>\n",
       "      <th>10</th>\n",
       "      <td>2001</td>\n",
       "      <td>Summer</td>\n",
       "      <td>5275.0</td>\n",
       "    </tr>\n",
       "    <tr>\n",
       "      <th>11</th>\n",
       "      <td>2009</td>\n",
       "      <td>Spring</td>\n",
       "      <td>5202.0</td>\n",
       "    </tr>\n",
       "    <tr>\n",
       "      <th>12</th>\n",
       "      <td>2002</td>\n",
       "      <td>Fall</td>\n",
       "      <td>5014.0</td>\n",
       "    </tr>\n",
       "    <tr>\n",
       "      <th>13</th>\n",
       "      <td>2000</td>\n",
       "      <td>Fall</td>\n",
       "      <td>4718.0</td>\n",
       "    </tr>\n",
       "    <tr>\n",
       "      <th>14</th>\n",
       "      <td>2007</td>\n",
       "      <td>Winter</td>\n",
       "      <td>4674.0</td>\n",
       "    </tr>\n",
       "    <tr>\n",
       "      <th>15</th>\n",
       "      <td>2008</td>\n",
       "      <td>Fall</td>\n",
       "      <td>4635.0</td>\n",
       "    </tr>\n",
       "    <tr>\n",
       "      <th>16</th>\n",
       "      <td>2004</td>\n",
       "      <td>Fall</td>\n",
       "      <td>4274.0</td>\n",
       "    </tr>\n",
       "    <tr>\n",
       "      <th>17</th>\n",
       "      <td>1996</td>\n",
       "      <td>Winter</td>\n",
       "      <td>4096.0</td>\n",
       "    </tr>\n",
       "    <tr>\n",
       "      <th>18</th>\n",
       "      <td>2012</td>\n",
       "      <td>Fall</td>\n",
       "      <td>3666.0</td>\n",
       "    </tr>\n",
       "    <tr>\n",
       "      <th>19</th>\n",
       "      <td>2010</td>\n",
       "      <td>Winter</td>\n",
       "      <td>3083.0</td>\n",
       "    </tr>\n",
       "    <tr>\n",
       "      <th>20</th>\n",
       "      <td>2014</td>\n",
       "      <td>Summer</td>\n",
       "      <td>2840.0</td>\n",
       "    </tr>\n",
       "    <tr>\n",
       "      <th>21</th>\n",
       "      <td>2003</td>\n",
       "      <td>Fall</td>\n",
       "      <td>2513.0</td>\n",
       "    </tr>\n",
       "    <tr>\n",
       "      <th>22</th>\n",
       "      <td>2016</td>\n",
       "      <td>Spring</td>\n",
       "      <td>2472.0</td>\n",
       "    </tr>\n",
       "    <tr>\n",
       "      <th>23</th>\n",
       "      <td>2005</td>\n",
       "      <td>Fall</td>\n",
       "      <td>1935.0</td>\n",
       "    </tr>\n",
       "    <tr>\n",
       "      <th>24</th>\n",
       "      <td>2015</td>\n",
       "      <td>Winter</td>\n",
       "      <td>1886.0</td>\n",
       "    </tr>\n",
       "    <tr>\n",
       "      <th>25</th>\n",
       "      <td>1988</td>\n",
       "      <td>Spring</td>\n",
       "      <td>1771.0</td>\n",
       "    </tr>\n",
       "    <tr>\n",
       "      <th>26</th>\n",
       "      <td>1984</td>\n",
       "      <td>Fall</td>\n",
       "      <td>1437.0</td>\n",
       "    </tr>\n",
       "    <tr>\n",
       "      <th>27</th>\n",
       "      <td>2017</td>\n",
       "      <td>Spring</td>\n",
       "      <td>1348.0</td>\n",
       "    </tr>\n",
       "    <tr>\n",
       "      <th>28</th>\n",
       "      <td>1979</td>\n",
       "      <td>Spring</td>\n",
       "      <td>1333.0</td>\n",
       "    </tr>\n",
       "    <tr>\n",
       "      <th>29</th>\n",
       "      <td>1985</td>\n",
       "      <td>Fall</td>\n",
       "      <td>1049.0</td>\n",
       "    </tr>\n",
       "    <tr>\n",
       "      <th>30</th>\n",
       "      <td>1997</td>\n",
       "      <td>Spring</td>\n",
       "      <td>821.0</td>\n",
       "    </tr>\n",
       "    <tr>\n",
       "      <th>31</th>\n",
       "      <td>2018</td>\n",
       "      <td>Winter</td>\n",
       "      <td>655.0</td>\n",
       "    </tr>\n",
       "    <tr>\n",
       "      <th>32</th>\n",
       "      <td>1993</td>\n",
       "      <td>Fall</td>\n",
       "      <td>654.0</td>\n",
       "    </tr>\n",
       "    <tr>\n",
       "      <th>33</th>\n",
       "      <td>1970</td>\n",
       "      <td>Spring</td>\n",
       "      <td>627.0</td>\n",
       "    </tr>\n",
       "    <tr>\n",
       "      <th>34</th>\n",
       "      <td>1982</td>\n",
       "      <td>Fall</td>\n",
       "      <td>624.0</td>\n",
       "    </tr>\n",
       "    <tr>\n",
       "      <th>35</th>\n",
       "      <td>1971</td>\n",
       "      <td>Fall</td>\n",
       "      <td>549.0</td>\n",
       "    </tr>\n",
       "    <tr>\n",
       "      <th>36</th>\n",
       "      <td>1980</td>\n",
       "      <td>Fall</td>\n",
       "      <td>518.0</td>\n",
       "    </tr>\n",
       "    <tr>\n",
       "      <th>37</th>\n",
       "      <td>1994</td>\n",
       "      <td>Spring</td>\n",
       "      <td>449.0</td>\n",
       "    </tr>\n",
       "    <tr>\n",
       "      <th>38</th>\n",
       "      <td>1991</td>\n",
       "      <td>Summer</td>\n",
       "      <td>396.0</td>\n",
       "    </tr>\n",
       "    <tr>\n",
       "      <th>39</th>\n",
       "      <td>1990</td>\n",
       "      <td>Spring</td>\n",
       "      <td>312.0</td>\n",
       "    </tr>\n",
       "    <tr>\n",
       "      <th>40</th>\n",
       "      <td>1987</td>\n",
       "      <td>Spring</td>\n",
       "      <td>296.0</td>\n",
       "    </tr>\n",
       "    <tr>\n",
       "      <th>41</th>\n",
       "      <td>1981</td>\n",
       "      <td>Fall</td>\n",
       "      <td>282.0</td>\n",
       "    </tr>\n",
       "    <tr>\n",
       "      <th>42</th>\n",
       "      <td>1983</td>\n",
       "      <td>Spring</td>\n",
       "      <td>266.0</td>\n",
       "    </tr>\n",
       "    <tr>\n",
       "      <th>43</th>\n",
       "      <td>1979</td>\n",
       "      <td>Winter</td>\n",
       "      <td>244.0</td>\n",
       "    </tr>\n",
       "    <tr>\n",
       "      <th>44</th>\n",
       "      <td>1978</td>\n",
       "      <td>Spring</td>\n",
       "      <td>244.0</td>\n",
       "    </tr>\n",
       "    <tr>\n",
       "      <th>45</th>\n",
       "      <td>1976</td>\n",
       "      <td>Fall</td>\n",
       "      <td>223.0</td>\n",
       "    </tr>\n",
       "    <tr>\n",
       "      <th>46</th>\n",
       "      <td>1974</td>\n",
       "      <td>Fall</td>\n",
       "      <td>128.0</td>\n",
       "    </tr>\n",
       "    <tr>\n",
       "      <th>47</th>\n",
       "      <td>1977</td>\n",
       "      <td>Fall</td>\n",
       "      <td>79.0</td>\n",
       "    </tr>\n",
       "    <tr>\n",
       "      <th>48</th>\n",
       "      <td>1992</td>\n",
       "      <td>Winter</td>\n",
       "      <td>68.0</td>\n",
       "    </tr>\n",
       "    <tr>\n",
       "      <th>49</th>\n",
       "      <td>1975</td>\n",
       "      <td>Fall</td>\n",
       "      <td>68.0</td>\n",
       "    </tr>\n",
       "  </tbody>\n",
       "</table>\n",
       "</div>"
      ],
      "text/plain": [
       "    Year Starting season  mean_favorites\n",
       "1   1989          Spring         10536.0\n",
       "2   1998          Spring         10190.0\n",
       "3   2006            Fall          9284.0\n",
       "4   1986          Winter          8510.0\n",
       "5   1999          Summer          7304.0\n",
       "6   1995            Fall          6841.0\n",
       "7   1992          Spring          6615.0\n",
       "8   2011          Spring          6468.0\n",
       "9   2013          Spring          5502.0\n",
       "10  2001          Summer          5275.0\n",
       "11  2009          Spring          5202.0\n",
       "12  2002            Fall          5014.0\n",
       "13  2000            Fall          4718.0\n",
       "14  2007          Winter          4674.0\n",
       "15  2008            Fall          4635.0\n",
       "16  2004            Fall          4274.0\n",
       "17  1996          Winter          4096.0\n",
       "18  2012            Fall          3666.0\n",
       "19  2010          Winter          3083.0\n",
       "20  2014          Summer          2840.0\n",
       "21  2003            Fall          2513.0\n",
       "22  2016          Spring          2472.0\n",
       "23  2005            Fall          1935.0\n",
       "24  2015          Winter          1886.0\n",
       "25  1988          Spring          1771.0\n",
       "26  1984            Fall          1437.0\n",
       "27  2017          Spring          1348.0\n",
       "28  1979          Spring          1333.0\n",
       "29  1985            Fall          1049.0\n",
       "30  1997          Spring           821.0\n",
       "31  2018          Winter           655.0\n",
       "32  1993            Fall           654.0\n",
       "33  1970          Spring           627.0\n",
       "34  1982            Fall           624.0\n",
       "35  1971            Fall           549.0\n",
       "36  1980            Fall           518.0\n",
       "37  1994          Spring           449.0\n",
       "38  1991          Summer           396.0\n",
       "39  1990          Spring           312.0\n",
       "40  1987          Spring           296.0\n",
       "41  1981            Fall           282.0\n",
       "42  1983          Spring           266.0\n",
       "43  1979          Winter           244.0\n",
       "44  1978          Spring           244.0\n",
       "45  1976            Fall           223.0\n",
       "46  1974            Fall           128.0\n",
       "47  1977            Fall            79.0\n",
       "48  1992          Winter            68.0\n",
       "49  1975            Fall            68.0"
      ]
     },
     "execution_count": 18,
     "metadata": {},
     "output_type": "execute_result"
    }
   ],
   "source": [
    "a=anime_df.groupby([\"Year\", \"Starting season\"])[\"Favorites\"].agg(\"mean\").reset_index(name=\"mean_favorites\")\n",
    "df=a\n",
    "a.Year=a.Year.astype(int)\n",
    "a=a.groupby([\"Year\"])[\"mean_favorites\"].agg(\"max\")\n",
    "idx=[]    \n",
    "for i in range(len(df)):\n",
    "    for j in range(len(a.values)):\n",
    "        if df.loc[i,\"mean_favorites\"]==a.values[j]:\n",
    "            idx.append(i)\n",
    "high_mean_favorites_animes=df.iloc[idx].sort_values(by=\"mean_favorites\", ascending=False).round()\n",
    "high_mean_favorites_animes.index=range(1, len(high_mean_favorites_animes.index)+1)\n",
    "high_mean_favorites_animes"
   ]
  },
  {
   "cell_type": "markdown",
   "metadata": {},
   "source": [
    "**Trả lời câu hỏi:**"
   ]
  },
  {
   "cell_type": "markdown",
   "metadata": {},
   "source": [
    "\"Spring 1989\" và \"Spring 1998\" là 2 mùa anime có số lượt yêu thích trung bình cao nhất."
   ]
  },
  {
   "cell_type": "markdown",
   "metadata": {},
   "source": [
    "**Ý nghĩa:**"
   ]
  },
  {
   "cell_type": "markdown",
   "metadata": {},
   "source": [
    "Kết quả này cung cấp cho bạn 2 từ khóa tốt để tìm kiếm anime theo mùa; bạn có thể thử search nó và tìm xem những bộ anime thuộc mùa này, khả năng cao là nó sẽ hay."
   ]
  },
  {
   "cell_type": "markdown",
   "metadata": {},
   "source": [
    "### 3. Số lượng anime được sản xuất theo mỗi thể loại (Genres) là bao nhiêu?"
   ]
  },
  {
   "cell_type": "markdown",
   "metadata": {},
   "source": [
    "Để trả lời cho câu hỏi này, ta sẽ làm 2 bước sau:\n",
    "- Bước 1: Từ cột \"Genres\" ta tính số lượng anime được sản xuất dựa trên thể loại (Ví dụ: \"Sci-Fi,Thriller\" thì ta cộng 1 cho \"Sci-Fi\" và cộng 1 cho \"Thriller\"). Kết quả sẽ được lưu vào series `num_genres`, series này có index là genres.\n",
    "- Bước 2: Vẽ đồ thị dạng bar chart, trong đó trục tung là thể loại, trục hoành là số lượng phim đã sản xuất. Đặt tên trục hoành là \"NumAnimes\", đặt tên trục tung là \"Genres\"."
   ]
  },
  {
   "cell_type": "markdown",
   "metadata": {},
   "source": [
    "Code bước 1."
   ]
  },
  {
   "cell_type": "code",
   "execution_count": 19,
   "metadata": {
    "scrolled": true
   },
   "outputs": [
    {
     "data": {
      "text/plain": [
       "Comedy           763.0\n",
       "Action           562.0\n",
       "Drama            515.0\n",
       "Shounen          450.0\n",
       "Adventure        361.0\n",
       "Romance          352.0\n",
       "Fantasy          344.0\n",
       "Slice of Life    320.0\n",
       "Supernatural     304.0\n",
       "School           296.0\n",
       "Sci-Fi           292.0\n",
       "Mystery          215.0\n",
       "Seinen           152.0\n",
       "Historical       152.0\n",
       "Magic            146.0\n",
       "Sports           132.0\n",
       "Super Power      130.0\n",
       "Shoujo           130.0\n",
       "Military         123.0\n",
       "Mecha            118.0\n",
       "Psychological     91.0\n",
       "Music             78.0\n",
       "Parody            75.0\n",
       "Space             72.0\n",
       "Police            66.0\n",
       "Demons            66.0\n",
       "Thriller          44.0\n",
       "Martial Arts      43.0\n",
       "Samurai           39.0\n",
       "Horror            36.0\n",
       "Game              33.0\n",
       "Kids              31.0\n",
       "Josei             30.0\n",
       "Vampire           24.0\n",
       "Shounen Ai        21.0\n",
       "Harem             17.0\n",
       "Cars              15.0\n",
       "Shoujo Ai         13.0\n",
       "Dementia           7.0\n",
       "dtype: float64"
      ]
     },
     "execution_count": 19,
     "metadata": {},
     "output_type": "execute_result"
    }
   ],
   "source": [
    "df = anime_df\n",
    "df = df['Genres'].str.split(',', expand=True)\n",
    "num_genres = df.apply(pd.Series.value_counts).fillna(0).sum(axis=1).sort_values(ascending=False)\n",
    "num_genres"
   ]
  },
  {
   "cell_type": "markdown",
   "metadata": {},
   "source": [
    "Code bước 2."
   ]
  },
  {
   "cell_type": "code",
   "execution_count": 20,
   "metadata": {},
   "outputs": [
    {
     "data": {
      "image/png": "[encoded data removed]",
      "text/plain": [
       "<Figure size 1152x720 with 1 Axes>"
      ]
     },
     "metadata": {
      "needs_background": "light"
     },
     "output_type": "display_data"
    }
   ],
   "source": [
    "plt.figure(figsize=(16,10))\n",
    "num_genres.sort_values().plot.barh()\n",
    "plt.title(\"Number of animes produced by genres\", fontsize=15)\n",
    "plt.xlabel(\"NumAnimes\", fontsize=12)\n",
    "plt.ylabel(\"Genres\", fontsize=12)\n",
    "plt.show()"
   ]
  },
  {
   "cell_type": "markdown",
   "metadata": {},
   "source": [
    "**Trả lời câu hỏi:**"
   ]
  },
  {
   "cell_type": "markdown",
   "metadata": {},
   "source": [
    "Nhìn vào biểu đồ và output của Code bước 1, ta thấy được số lượng anime được sản xuất theo mỗi thể loại. Trong đó thì Comedy, Action và Drama là 3 thể loại được sản xuất nhiều nhất."
   ]
  },
  {
   "cell_type": "markdown",
   "metadata": {},
   "source": [
    "**Ý nghĩa:**"
   ]
  },
  {
   "cell_type": "markdown",
   "metadata": {},
   "source": [
    "Kết quả cho ta thấy những thể loại nào sẽ được sản xuất từ nhiều nhất đến ít nhất. Có vẻ các yếu tố (Comedy, Action, Drama) được người xem rất ưa chuộng nên mới được các nhà sản xuất thêm vào nhiều như vậy. Đặc biệt là Comedy (Hài hước) được đặt lên hàng đầu cho thấy sự quan trọng của nó trong anime."
   ]
  },
  {
   "cell_type": "markdown",
   "metadata": {},
   "source": [
    "### 4. Trong 10 năm gần đây, 3 nguồn (Sources) chất lượng nhất dùng để chuyển thể sang anime có sự thay đổi như thế nào?"
   ]
  },
  {
   "cell_type": "markdown",
   "metadata": {},
   "source": [
    "Để trả lời cho câu hỏi này, ta sẽ thực hiện qua 2 bước:\n",
    "- Bước 1: Tính dataframe `num_three_best_sources` gồm 3 cột Year (Năm), Sources (Các loại nguồn để sản xuất thành anime) và \"counts\" (số lượng anime của mỗi nguồn theo năm); và 10 dòng ứng với 10 năm (2009,2010,...2018).\n",
    "- Bước 2: Từ kết quả trên, ta vẽ 3 đường dạng line (ứng với mỗi sources) trên cùng một đồ thị, trong đó trục hoành là năm và trục tung là số lượng được chuyển thể. Đặt tên cho trục hoành là \"Year\", trục tung là \"NumAdaptions\"."
   ]
  },
  {
   "cell_type": "markdown",
   "metadata": {},
   "source": [
    "Code bước 1."
   ]
  },
  {
   "cell_type": "code",
   "execution_count": 21,
   "metadata": {
    "scrolled": true
   },
   "outputs": [
    {
     "data": {
      "text/html": [
       "<div>\n",
       "<style scoped>\n",
       "    .dataframe tbody tr th:only-of-type {\n",
       "        vertical-align: middle;\n",
       "    }\n",
       "\n",
       "    .dataframe tbody tr th {\n",
       "        vertical-align: top;\n",
       "    }\n",
       "\n",
       "    .dataframe thead th {\n",
       "        text-align: right;\n",
       "    }\n",
       "</style>\n",
       "<table border=\"1\" class=\"dataframe\">\n",
       "  <thead>\n",
       "    <tr style=\"text-align: right;\">\n",
       "      <th></th>\n",
       "      <th>Year</th>\n",
       "      <th>Sources</th>\n",
       "      <th>counts</th>\n",
       "    </tr>\n",
       "  </thead>\n",
       "  <tbody>\n",
       "    <tr>\n",
       "      <th>0</th>\n",
       "      <td>2009</td>\n",
       "      <td>4-koma manga</td>\n",
       "      <td>5</td>\n",
       "    </tr>\n",
       "    <tr>\n",
       "      <th>1</th>\n",
       "      <td>2009</td>\n",
       "      <td>Book</td>\n",
       "      <td>1</td>\n",
       "    </tr>\n",
       "    <tr>\n",
       "      <th>2</th>\n",
       "      <td>2009</td>\n",
       "      <td>Game</td>\n",
       "      <td>5</td>\n",
       "    </tr>\n",
       "    <tr>\n",
       "      <th>3</th>\n",
       "      <td>2009</td>\n",
       "      <td>Light novel</td>\n",
       "      <td>11</td>\n",
       "    </tr>\n",
       "    <tr>\n",
       "      <th>4</th>\n",
       "      <td>2009</td>\n",
       "      <td>Manga</td>\n",
       "      <td>40</td>\n",
       "    </tr>\n",
       "    <tr>\n",
       "      <th>...</th>\n",
       "      <td>...</td>\n",
       "      <td>...</td>\n",
       "      <td>...</td>\n",
       "    </tr>\n",
       "    <tr>\n",
       "      <th>90</th>\n",
       "      <td>2018</td>\n",
       "      <td>Manga</td>\n",
       "      <td>21</td>\n",
       "    </tr>\n",
       "    <tr>\n",
       "      <th>91</th>\n",
       "      <td>2018</td>\n",
       "      <td>Novel</td>\n",
       "      <td>2</td>\n",
       "    </tr>\n",
       "    <tr>\n",
       "      <th>92</th>\n",
       "      <td>2018</td>\n",
       "      <td>Original</td>\n",
       "      <td>8</td>\n",
       "    </tr>\n",
       "    <tr>\n",
       "      <th>93</th>\n",
       "      <td>2018</td>\n",
       "      <td>Visual novel</td>\n",
       "      <td>1</td>\n",
       "    </tr>\n",
       "    <tr>\n",
       "      <th>94</th>\n",
       "      <td>2018</td>\n",
       "      <td>Web manga</td>\n",
       "      <td>6</td>\n",
       "    </tr>\n",
       "  </tbody>\n",
       "</table>\n",
       "<p>95 rows × 3 columns</p>\n",
       "</div>"
      ],
      "text/plain": [
       "    Year       Sources  counts\n",
       "0   2009  4-koma manga       5\n",
       "1   2009          Book       1\n",
       "2   2009          Game       5\n",
       "3   2009   Light novel      11\n",
       "4   2009         Manga      40\n",
       "..   ...           ...     ...\n",
       "90  2018         Manga      21\n",
       "91  2018         Novel       2\n",
       "92  2018      Original       8\n",
       "93  2018  Visual novel       1\n",
       "94  2018     Web manga       6\n",
       "\n",
       "[95 rows x 3 columns]"
      ]
     },
     "execution_count": 21,
     "metadata": {},
     "output_type": "execute_result"
    }
   ],
   "source": [
    "# Groupby theo Year và Sources\n",
    "ten_recent_years = anime_df[anime_df.Year > anime_df.Year.max()-10]\n",
    "num_animes_each_source = ten_recent_years.groupby([\"Year\",\"Sources\"])[\"Title\"].agg(\"count\").reset_index(name='counts')\n",
    "num_animes_each_source.Year=num_animes_each_source.Year.astype(int)\n",
    "num_animes_each_source"
   ]
  },
  {
   "cell_type": "code",
   "execution_count": 22,
   "metadata": {},
   "outputs": [
    {
     "data": {
      "text/plain": [
       "['Light novel', 'Manga', 'Original']"
      ]
     },
     "execution_count": 22,
     "metadata": {},
     "output_type": "execute_result"
    }
   ],
   "source": [
    "# Lấy ra 3 nguồn (Sources) tốt nhất.\n",
    "three_best_sources = num_animes_each_source.groupby(\"Sources\")[\"counts\"].agg(\"sum\").sort_values(ascending=False)[:3]\n",
    "three_best_sources = sorted(three_best_sources.index)\n",
    "three_best_sources"
   ]
  },
  {
   "cell_type": "code",
   "execution_count": 23,
   "metadata": {},
   "outputs": [
    {
     "data": {
      "text/html": [
       "<div>\n",
       "<style scoped>\n",
       "    .dataframe tbody tr th:only-of-type {\n",
       "        vertical-align: middle;\n",
       "    }\n",
       "\n",
       "    .dataframe tbody tr th {\n",
       "        vertical-align: top;\n",
       "    }\n",
       "\n",
       "    .dataframe thead th {\n",
       "        text-align: right;\n",
       "    }\n",
       "</style>\n",
       "<table border=\"1\" class=\"dataframe\">\n",
       "  <thead>\n",
       "    <tr style=\"text-align: right;\">\n",
       "      <th></th>\n",
       "      <th>Light novel</th>\n",
       "      <th>Manga</th>\n",
       "      <th>Original</th>\n",
       "    </tr>\n",
       "  </thead>\n",
       "  <tbody>\n",
       "    <tr>\n",
       "      <th>2009</th>\n",
       "      <td>11</td>\n",
       "      <td>40</td>\n",
       "      <td>10</td>\n",
       "    </tr>\n",
       "    <tr>\n",
       "      <th>2010</th>\n",
       "      <td>9</td>\n",
       "      <td>38</td>\n",
       "      <td>11</td>\n",
       "    </tr>\n",
       "    <tr>\n",
       "      <th>2011</th>\n",
       "      <td>13</td>\n",
       "      <td>42</td>\n",
       "      <td>17</td>\n",
       "    </tr>\n",
       "    <tr>\n",
       "      <th>2012</th>\n",
       "      <td>11</td>\n",
       "      <td>42</td>\n",
       "      <td>14</td>\n",
       "    </tr>\n",
       "    <tr>\n",
       "      <th>2013</th>\n",
       "      <td>16</td>\n",
       "      <td>44</td>\n",
       "      <td>17</td>\n",
       "    </tr>\n",
       "    <tr>\n",
       "      <th>2014</th>\n",
       "      <td>13</td>\n",
       "      <td>60</td>\n",
       "      <td>17</td>\n",
       "    </tr>\n",
       "    <tr>\n",
       "      <th>2015</th>\n",
       "      <td>16</td>\n",
       "      <td>60</td>\n",
       "      <td>20</td>\n",
       "    </tr>\n",
       "    <tr>\n",
       "      <th>2016</th>\n",
       "      <td>13</td>\n",
       "      <td>60</td>\n",
       "      <td>16</td>\n",
       "    </tr>\n",
       "    <tr>\n",
       "      <th>2017</th>\n",
       "      <td>19</td>\n",
       "      <td>52</td>\n",
       "      <td>15</td>\n",
       "    </tr>\n",
       "    <tr>\n",
       "      <th>2018</th>\n",
       "      <td>4</td>\n",
       "      <td>21</td>\n",
       "      <td>8</td>\n",
       "    </tr>\n",
       "  </tbody>\n",
       "</table>\n",
       "</div>"
      ],
      "text/plain": [
       "     Light novel Manga Original\n",
       "2009          11    40       10\n",
       "2010           9    38       11\n",
       "2011          13    42       17\n",
       "2012          11    42       14\n",
       "2013          16    44       17\n",
       "2014          13    60       17\n",
       "2015          16    60       20\n",
       "2016          13    60       16\n",
       "2017          19    52       15\n",
       "2018           4    21        8"
      ]
     },
     "execution_count": 23,
     "metadata": {},
     "output_type": "execute_result"
    }
   ],
   "source": [
    "# Tạo DataFrame num_three_best_sources\n",
    "df = num_animes_each_source\n",
    "src = three_best_sources\n",
    "num_three_best_sources=pd.DataFrame(columns=src,index=range(2009,2019))\n",
    "for year in range(2009,2019):\n",
    "    data=df[(df.Year==year) & ((df.Sources==src[0])|(df.Sources==src[1])|(df.Sources==src[2]))].counts\n",
    "    num_three_best_sources.loc[year]=list(data)\n",
    "num_three_best_sources"
   ]
  },
  {
   "cell_type": "markdown",
   "metadata": {},
   "source": [
    "Code bước 2."
   ]
  },
  {
   "cell_type": "code",
   "execution_count": 24,
   "metadata": {},
   "outputs": [
    {
     "data": {
      "image/png": "[encoded data removed]",
      "text/plain": [
       "<Figure size 1152x648 with 1 Axes>"
      ]
     },
     "metadata": {
      "needs_background": "light"
     },
     "output_type": "display_data"
    }
   ],
   "source": [
    "# Vẽ đồ thị\n",
    "plt.figure(figsize=(16,9))\n",
    "plt.plot(num_three_best_sources, marker=\"o\")\n",
    "plt.xticks(range(2009,2019,1))\n",
    "plt.xlabel(\"Year\", fontsize=12)\n",
    "plt.ylabel(\"NumAdaptions\", fontsize=12)\n",
    "plt.title(\"Number of anime adaptations of the 3 best sources in the last 10 years\", fontsize=15)\n",
    "plt.legend(src)\n",
    "plt.show()"
   ]
  },
  {
   "cell_type": "markdown",
   "metadata": {},
   "source": [
    "**Trả lời câu hỏi:**"
   ]
  },
  {
   "cell_type": "markdown",
   "metadata": {},
   "source": [
    "Trong 10 năm gần nhất, 3 nguồn tốt nhất là \"Light novel\", \"Manga\" và \"Original\". Trong đó \"Manga\" luôn áp đảo 2 nguồn còn lại; \"Light novel\" và \"Original\" không hơn kém nhau nhiều."
   ]
  },
  {
   "cell_type": "markdown",
   "metadata": {},
   "source": [
    "**Ý nghĩa:**"
   ]
  },
  {
   "cell_type": "markdown",
   "metadata": {},
   "source": [
    "Kết quả cho thấy trong vòng 10 năm gần đây, việc chuyển thể từ manga sang anime luôn chiếm ưu thế áp đảo. Điều này chứng tỏ nếu đã có manga làm nền trước đó thì khả năng được sản xuất thành anime là khá cao. Điều này khuyến khích những tác giả nên vẽ manga (truyện tranh) nhiều hơn để tác phẩm của mình được biết đến rộng rãi và có thể kiếm được một khoản kha khá từ việc mua bản quyền từ nhà sản xuất."
   ]
  },
  {
   "cell_type": "markdown",
   "metadata": {},
   "source": [
    "---"
   ]
  },
  {
   "cell_type": "markdown",
   "metadata": {},
   "source": [
    "## Nhìn lại quá trình làm đồ án"
   ]
  },
  {
   "cell_type": "markdown",
   "metadata": {},
   "source": [
    "### Khó khăn:\n",
    "- Dữ liệu chưa tốt (số dòng không nhiều và nhiều dòng chứa giá trị trống) gây khó khăn cho việc xử lý.\n",
    "- Việc đưa ra được một câu hỏi có ý nghĩa cần tốn khá nhiều thời gian và công sức."
   ]
  },
  {
   "cell_type": "markdown",
   "metadata": {},
   "source": [
    "### Những thứ học được:\n",
    "- Khả năng sử dụng thư viện numpy, pandas chuyên nghiệp hơn.\n",
    "- Nắm vững 1 quy trình khoa học dữ liệu là như thế nào."
   ]
  },
  {
   "cell_type": "markdown",
   "metadata": {},
   "source": [
    "### Làm gì nếu có thêm thời gian:\n",
    "- Đặt thêm nhiều câu hỏi thú vị hơn.\n",
    "- Tìm hiểu thêm trực quan hóa dữ liệu để thể hiện biểu đồ đẹp mắt."
   ]
  },
  {
   "cell_type": "markdown",
   "metadata": {},
   "source": [
    "## Tài liệu tham khảo:"
   ]
  },
  {
   "cell_type": "markdown",
   "metadata": {},
   "source": [
    "Tham khảo template \"BT03-Pandas.ipynb\" trên [thùng chứa môn học](https://drive.google.com/drive/folders/1EKaa7pQZMK4m0_gNQNf4oafXgPMQzbBc)"
   ]
  }
 ],
 "metadata": {
  "kernelspec": {
   "display_name": "Python 3",
   "language": "python",
   "name": "python3"
  },
  "language_info": {
   "codemirror_mode": {
    "name": "ipython",
    "version": 3
   },
   "file_extension": ".py",
   "mimetype": "text/x-python",
   "name": "python",
   "nbconvert_exporter": "python",
   "pygments_lexer": "ipython3",
   "version": "3.7.6"
  }
 },
 "nbformat": 4,
 "nbformat_minor": 4
}
